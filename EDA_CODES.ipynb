{
 "cells": [
  {
   "cell_type": "markdown",
   "id": "999b271e",
   "metadata": {},
   "source": [
    "# Uber Supply-Demand Gap"
   ]
  },
  {
   "cell_type": "markdown",
   "id": "6ded161c",
   "metadata": {},
   "source": [
    "<h1>Name : Vikash Kumar Shrivastava</h1>\n",
    "<h2>Reg. No. : 12018607</h2>\n",
    "<h2>Section : K20RU</h2>"
   ]
  },
  {
   "cell_type": "markdown",
   "id": "50145a2b",
   "metadata": {},
   "source": [
    "## Importing numpy and pandas libraries"
   ]
  },
  {
   "cell_type": "code",
   "execution_count": 1,
   "id": "8173f8c7",
   "metadata": {},
   "outputs": [],
   "source": [
    "# Import the numpy and pandas packages\n",
    "import numpy as np\n",
    "import pandas as pd\n",
    "\n",
    "import warnings\n",
    "warnings.filterwarnings(\"ignore\")"
   ]
  },
  {
   "cell_type": "markdown",
   "id": "b610252c",
   "metadata": {},
   "source": [
    "## Importing matplotlib and seaborn libraries"
   ]
  },
  {
   "cell_type": "code",
   "execution_count": 2,
   "id": "2cec621c",
   "metadata": {},
   "outputs": [],
   "source": [
    "import matplotlib.pyplot as plt\n",
    "import seaborn as sns"
   ]
  },
  {
   "cell_type": "markdown",
   "id": "c579e6e7",
   "metadata": {},
   "source": [
    "## Importing Data from CSV"
   ]
  },
  {
   "cell_type": "code",
   "execution_count": 3,
   "id": "d2f9ce7a",
   "metadata": {},
   "outputs": [],
   "source": [
    "# Read the csv file using 'read_csv'\n",
    "uber_data = pd.read_csv('Uber Request Data.csv')"
   ]
  },
  {
   "cell_type": "markdown",
   "id": "7281541e",
   "metadata": {},
   "source": [
    "## Inspecting the dataframe"
   ]
  },
  {
   "cell_type": "code",
   "execution_count": 4,
   "id": "dcb74971",
   "metadata": {},
   "outputs": [
    {
     "data": {
      "text/html": [
       "<div>\n",
       "<style scoped>\n",
       "    .dataframe tbody tr th:only-of-type {\n",
       "        vertical-align: middle;\n",
       "    }\n",
       "\n",
       "    .dataframe tbody tr th {\n",
       "        vertical-align: top;\n",
       "    }\n",
       "\n",
       "    .dataframe thead th {\n",
       "        text-align: right;\n",
       "    }\n",
       "</style>\n",
       "<table border=\"1\" class=\"dataframe\">\n",
       "  <thead>\n",
       "    <tr style=\"text-align: right;\">\n",
       "      <th></th>\n",
       "      <th>Request id</th>\n",
       "      <th>Pickup point</th>\n",
       "      <th>Driver id</th>\n",
       "      <th>Status</th>\n",
       "      <th>Request timestamp</th>\n",
       "      <th>Drop timestamp</th>\n",
       "    </tr>\n",
       "  </thead>\n",
       "  <tbody>\n",
       "    <tr>\n",
       "      <th>0</th>\n",
       "      <td>619</td>\n",
       "      <td>Airport</td>\n",
       "      <td>1.0</td>\n",
       "      <td>Trip Completed</td>\n",
       "      <td>11/7/2016 11:51</td>\n",
       "      <td>11/7/2016 13:00</td>\n",
       "    </tr>\n",
       "    <tr>\n",
       "      <th>1</th>\n",
       "      <td>867</td>\n",
       "      <td>Airport</td>\n",
       "      <td>1.0</td>\n",
       "      <td>Trip Completed</td>\n",
       "      <td>11/7/2016 17:57</td>\n",
       "      <td>11/7/2016 18:47</td>\n",
       "    </tr>\n",
       "    <tr>\n",
       "      <th>2</th>\n",
       "      <td>1807</td>\n",
       "      <td>City</td>\n",
       "      <td>1.0</td>\n",
       "      <td>Trip Completed</td>\n",
       "      <td>12/7/2016 9:17</td>\n",
       "      <td>12/7/2016 9:58</td>\n",
       "    </tr>\n",
       "    <tr>\n",
       "      <th>3</th>\n",
       "      <td>2532</td>\n",
       "      <td>Airport</td>\n",
       "      <td>1.0</td>\n",
       "      <td>Trip Completed</td>\n",
       "      <td>12/7/2016 21:08</td>\n",
       "      <td>12/7/2016 22:03</td>\n",
       "    </tr>\n",
       "    <tr>\n",
       "      <th>4</th>\n",
       "      <td>3112</td>\n",
       "      <td>City</td>\n",
       "      <td>1.0</td>\n",
       "      <td>Trip Completed</td>\n",
       "      <td>13-07-2016 08:33:16</td>\n",
       "      <td>13-07-2016 09:25:47</td>\n",
       "    </tr>\n",
       "    <tr>\n",
       "      <th>...</th>\n",
       "      <td>...</td>\n",
       "      <td>...</td>\n",
       "      <td>...</td>\n",
       "      <td>...</td>\n",
       "      <td>...</td>\n",
       "      <td>...</td>\n",
       "    </tr>\n",
       "    <tr>\n",
       "      <th>6740</th>\n",
       "      <td>6745</td>\n",
       "      <td>City</td>\n",
       "      <td>NaN</td>\n",
       "      <td>No Cars Available</td>\n",
       "      <td>15-07-2016 23:49:03</td>\n",
       "      <td>NaN</td>\n",
       "    </tr>\n",
       "    <tr>\n",
       "      <th>6741</th>\n",
       "      <td>6752</td>\n",
       "      <td>Airport</td>\n",
       "      <td>NaN</td>\n",
       "      <td>No Cars Available</td>\n",
       "      <td>15-07-2016 23:50:05</td>\n",
       "      <td>NaN</td>\n",
       "    </tr>\n",
       "    <tr>\n",
       "      <th>6742</th>\n",
       "      <td>6751</td>\n",
       "      <td>City</td>\n",
       "      <td>NaN</td>\n",
       "      <td>No Cars Available</td>\n",
       "      <td>15-07-2016 23:52:06</td>\n",
       "      <td>NaN</td>\n",
       "    </tr>\n",
       "    <tr>\n",
       "      <th>6743</th>\n",
       "      <td>6754</td>\n",
       "      <td>City</td>\n",
       "      <td>NaN</td>\n",
       "      <td>No Cars Available</td>\n",
       "      <td>15-07-2016 23:54:39</td>\n",
       "      <td>NaN</td>\n",
       "    </tr>\n",
       "    <tr>\n",
       "      <th>6744</th>\n",
       "      <td>6753</td>\n",
       "      <td>Airport</td>\n",
       "      <td>NaN</td>\n",
       "      <td>No Cars Available</td>\n",
       "      <td>15-07-2016 23:55:03</td>\n",
       "      <td>NaN</td>\n",
       "    </tr>\n",
       "  </tbody>\n",
       "</table>\n",
       "<p>6745 rows × 6 columns</p>\n",
       "</div>"
      ],
      "text/plain": [
       "      Request id Pickup point  Driver id             Status  \\\n",
       "0            619      Airport        1.0     Trip Completed   \n",
       "1            867      Airport        1.0     Trip Completed   \n",
       "2           1807         City        1.0     Trip Completed   \n",
       "3           2532      Airport        1.0     Trip Completed   \n",
       "4           3112         City        1.0     Trip Completed   \n",
       "...          ...          ...        ...                ...   \n",
       "6740        6745         City        NaN  No Cars Available   \n",
       "6741        6752      Airport        NaN  No Cars Available   \n",
       "6742        6751         City        NaN  No Cars Available   \n",
       "6743        6754         City        NaN  No Cars Available   \n",
       "6744        6753      Airport        NaN  No Cars Available   \n",
       "\n",
       "        Request timestamp       Drop timestamp  \n",
       "0         11/7/2016 11:51      11/7/2016 13:00  \n",
       "1         11/7/2016 17:57      11/7/2016 18:47  \n",
       "2          12/7/2016 9:17       12/7/2016 9:58  \n",
       "3         12/7/2016 21:08      12/7/2016 22:03  \n",
       "4     13-07-2016 08:33:16  13-07-2016 09:25:47  \n",
       "...                   ...                  ...  \n",
       "6740  15-07-2016 23:49:03                  NaN  \n",
       "6741  15-07-2016 23:50:05                  NaN  \n",
       "6742  15-07-2016 23:52:06                  NaN  \n",
       "6743  15-07-2016 23:54:39                  NaN  \n",
       "6744  15-07-2016 23:55:03                  NaN  \n",
       "\n",
       "[6745 rows x 6 columns]"
      ]
     },
     "execution_count": 4,
     "metadata": {},
     "output_type": "execute_result"
    }
   ],
   "source": [
    "# Observing actual data in dataframe\n",
    "\n",
    "uber_data"
   ]
  },
  {
   "cell_type": "markdown",
   "id": "addfd214",
   "metadata": {},
   "source": [
    "** Inference 1:** 'Driver id' fields have decimal values however, it should be integer values"
   ]
  },
  {
   "cell_type": "markdown",
   "id": "c328c468",
   "metadata": {},
   "source": [
    "** Inference 2:** 'Request timestamp' and 'Drop timestamp' fields have dates in different formats however, it should be in uniform format for analysis. Eg. '15-07-2016 10:00:43' vs. '11/7/2016 13:08'"
   ]
  },
  {
   "cell_type": "code",
   "execution_count": 5,
   "id": "30bc4ff5",
   "metadata": {},
   "outputs": [
    {
     "data": {
      "text/plain": [
       "(6745, 6)"
      ]
     },
     "execution_count": 5,
     "metadata": {},
     "output_type": "execute_result"
    }
   ],
   "source": [
    "# Check the number of rows and columns in the dataframe\n",
    "uber_data.shape"
   ]
  },
  {
   "cell_type": "code",
   "execution_count": 6,
   "id": "30faf5bc",
   "metadata": {},
   "outputs": [
    {
     "name": "stdout",
     "output_type": "stream",
     "text": [
      "<class 'pandas.core.frame.DataFrame'>\n",
      "RangeIndex: 6745 entries, 0 to 6744\n",
      "Data columns (total 6 columns):\n",
      " #   Column             Non-Null Count  Dtype  \n",
      "---  ------             --------------  -----  \n",
      " 0   Request id         6745 non-null   int64  \n",
      " 1   Pickup point       6745 non-null   object \n",
      " 2   Driver id          4095 non-null   float64\n",
      " 3   Status             6745 non-null   object \n",
      " 4   Request timestamp  6745 non-null   object \n",
      " 5   Drop timestamp     2831 non-null   object \n",
      "dtypes: float64(1), int64(1), object(4)\n",
      "memory usage: 316.3+ KB\n"
     ]
    }
   ],
   "source": [
    "# Check the column-wise info of the dataframe\n",
    "uber_data.info()"
   ]
  },
  {
   "cell_type": "markdown",
   "id": "e764714f",
   "metadata": {},
   "source": [
    "** Inference 3:** 'Driver id' fields and 'Drop timestamp' have many 'NaN' values"
   ]
  },
  {
   "cell_type": "markdown",
   "id": "d12e2752",
   "metadata": {},
   "source": [
    "### Summary of Inspecting the dataframe\n",
    "* 'Driver id' fields have decimal values however, it should be integer values\n",
    "* 'Request timestamp' and 'Drop timestamp' fields have dates in different formats however, it should be in uniform format for analysis. Eg. '15-07-2016 10:00:43' vs. '11/7/2016 13:08'\n",
    "* 'Driver id' fields and 'Drop timestamp' have many 'NaN' values"
   ]
  },
  {
   "cell_type": "markdown",
   "id": "adcb8cc3",
   "metadata": {},
   "source": [
    "## Data Cleaning"
   ]
  },
  {
   "cell_type": "markdown",
   "id": "4de94973",
   "metadata": {},
   "source": [
    "### Converting the data type of 'Driver id' column.\n",
    "#### In order to do this, we will replace the nan in 'driver id' column by zero as because we have no special need of this column.\n",
    "#### Now we will change the float type to integer type."
   ]
  },
  {
   "cell_type": "code",
   "execution_count": 7,
   "id": "e4d9a0d3",
   "metadata": {},
   "outputs": [
    {
     "data": {
      "text/plain": [
       "Request id             int64\n",
       "Pickup point          object\n",
       "Driver id            float64\n",
       "Status                object\n",
       "Request timestamp     object\n",
       "Drop timestamp        object\n",
       "dtype: object"
      ]
     },
     "metadata": {},
     "output_type": "display_data"
    }
   ],
   "source": [
    "display(uber_data.dtypes)"
   ]
  },
  {
   "cell_type": "code",
   "execution_count": 8,
   "id": "73d1451b",
   "metadata": {},
   "outputs": [],
   "source": [
    "uber_data['Driver id'] = uber_data['Driver id'].fillna(0)"
   ]
  },
  {
   "cell_type": "code",
   "execution_count": 9,
   "id": "d7ea593c",
   "metadata": {},
   "outputs": [],
   "source": [
    "uber_data['Driver id'] = uber_data['Driver id'].astype(int)"
   ]
  },
  {
   "cell_type": "code",
   "execution_count": 10,
   "id": "0a11fafd",
   "metadata": {},
   "outputs": [
    {
     "name": "stdout",
     "output_type": "stream",
     "text": [
      "<class 'pandas.core.frame.DataFrame'>\n",
      "RangeIndex: 6745 entries, 0 to 6744\n",
      "Data columns (total 6 columns):\n",
      " #   Column             Non-Null Count  Dtype \n",
      "---  ------             --------------  ----- \n",
      " 0   Request id         6745 non-null   int64 \n",
      " 1   Pickup point       6745 non-null   object\n",
      " 2   Driver id          6745 non-null   int32 \n",
      " 3   Status             6745 non-null   object\n",
      " 4   Request timestamp  6745 non-null   object\n",
      " 5   Drop timestamp     2831 non-null   object\n",
      "dtypes: int32(1), int64(1), object(4)\n",
      "memory usage: 289.9+ KB\n"
     ]
    }
   ],
   "source": [
    "uber_data.info()"
   ]
  },
  {
   "cell_type": "markdown",
   "id": "9a74bb66",
   "metadata": {},
   "source": [
    "### Removed the nan and converted the data type for 'Driver id' column"
   ]
  },
  {
   "cell_type": "markdown",
   "id": "21f326b2",
   "metadata": {},
   "source": [
    "### Converting 'Request timestamp' and 'Drop timestamp' fields to uniform format"
   ]
  },
  {
   "cell_type": "code",
   "execution_count": 11,
   "id": "11f34723",
   "metadata": {},
   "outputs": [
    {
     "data": {
      "text/html": [
       "<div>\n",
       "<style scoped>\n",
       "    .dataframe tbody tr th:only-of-type {\n",
       "        vertical-align: middle;\n",
       "    }\n",
       "\n",
       "    .dataframe tbody tr th {\n",
       "        vertical-align: top;\n",
       "    }\n",
       "\n",
       "    .dataframe thead th {\n",
       "        text-align: right;\n",
       "    }\n",
       "</style>\n",
       "<table border=\"1\" class=\"dataframe\">\n",
       "  <thead>\n",
       "    <tr style=\"text-align: right;\">\n",
       "      <th></th>\n",
       "      <th>Request id</th>\n",
       "      <th>Pickup point</th>\n",
       "      <th>Driver id</th>\n",
       "      <th>Status</th>\n",
       "      <th>Request timestamp</th>\n",
       "      <th>Drop timestamp</th>\n",
       "    </tr>\n",
       "  </thead>\n",
       "  <tbody>\n",
       "    <tr>\n",
       "      <th>0</th>\n",
       "      <td>619</td>\n",
       "      <td>Airport</td>\n",
       "      <td>1</td>\n",
       "      <td>Trip Completed</td>\n",
       "      <td>2016-07-11 11:51:00</td>\n",
       "      <td>2016-07-11 13:00:00</td>\n",
       "    </tr>\n",
       "    <tr>\n",
       "      <th>1</th>\n",
       "      <td>867</td>\n",
       "      <td>Airport</td>\n",
       "      <td>1</td>\n",
       "      <td>Trip Completed</td>\n",
       "      <td>2016-07-11 17:57:00</td>\n",
       "      <td>2016-07-11 18:47:00</td>\n",
       "    </tr>\n",
       "    <tr>\n",
       "      <th>2</th>\n",
       "      <td>1807</td>\n",
       "      <td>City</td>\n",
       "      <td>1</td>\n",
       "      <td>Trip Completed</td>\n",
       "      <td>2016-07-12 09:17:00</td>\n",
       "      <td>2016-07-12 09:58:00</td>\n",
       "    </tr>\n",
       "    <tr>\n",
       "      <th>3</th>\n",
       "      <td>2532</td>\n",
       "      <td>Airport</td>\n",
       "      <td>1</td>\n",
       "      <td>Trip Completed</td>\n",
       "      <td>2016-07-12 21:08:00</td>\n",
       "      <td>2016-07-12 22:03:00</td>\n",
       "    </tr>\n",
       "    <tr>\n",
       "      <th>4</th>\n",
       "      <td>3112</td>\n",
       "      <td>City</td>\n",
       "      <td>1</td>\n",
       "      <td>Trip Completed</td>\n",
       "      <td>2016-07-13 08:33:16</td>\n",
       "      <td>2016-07-13 09:25:47</td>\n",
       "    </tr>\n",
       "  </tbody>\n",
       "</table>\n",
       "</div>"
      ],
      "text/plain": [
       "   Request id Pickup point  Driver id          Status   Request timestamp  \\\n",
       "0         619      Airport          1  Trip Completed 2016-07-11 11:51:00   \n",
       "1         867      Airport          1  Trip Completed 2016-07-11 17:57:00   \n",
       "2        1807         City          1  Trip Completed 2016-07-12 09:17:00   \n",
       "3        2532      Airport          1  Trip Completed 2016-07-12 21:08:00   \n",
       "4        3112         City          1  Trip Completed 2016-07-13 08:33:16   \n",
       "\n",
       "       Drop timestamp  \n",
       "0 2016-07-11 13:00:00  \n",
       "1 2016-07-11 18:47:00  \n",
       "2 2016-07-12 09:58:00  \n",
       "3 2016-07-12 22:03:00  \n",
       "4 2016-07-13 09:25:47  "
      ]
     },
     "execution_count": 11,
     "metadata": {},
     "output_type": "execute_result"
    }
   ],
   "source": [
    "from datetime import datetime\n",
    "\n",
    "# Make the date-time columns, 'Request timestamp' and 'Drop timestamp' as uniform datetime format.\n",
    "def uniform_format(var):\n",
    "    try:\n",
    "        if var == ' ':\n",
    "            return var\n",
    "        elif '-' in var:\n",
    "            return datetime.strptime(var, '%d-%m-%Y %H:%M:%S')\n",
    "        elif '/' in var:\n",
    "            return datetime.strptime(var, '%d/%m/%Y %H:%M')\n",
    "    except Exception as e:\n",
    "        print(e, var)\n",
    "\n",
    "\n",
    "        \n",
    "# Replacing missing values in 'Drop timestamp' by 'Request timestamp', thus 'Ride Duration' becomes 0 minutes\n",
    "uber_data.loc[pd.isnull(uber_data['Drop timestamp']), ['Drop timestamp']] = uber_data['Request timestamp']\n",
    "\n",
    "\n",
    "\n",
    "# Applying uniform datetime format on 'Request timestamp' and 'Drop timestamp' columns.\n",
    "uber_data['Request timestamp'] = uber_data['Request timestamp'].apply(lambda x: uniform_format(x))\n",
    "uber_data['Drop timestamp'] = uber_data['Drop timestamp'].apply(lambda x: uniform_format(x))\n",
    "\n",
    "uber_data.head()"
   ]
  },
  {
   "cell_type": "markdown",
   "id": "26e7aa98",
   "metadata": {},
   "source": [
    "### Identifying additional data quality issues"
   ]
  },
  {
   "cell_type": "code",
   "execution_count": 12,
   "id": "348ad570",
   "metadata": {},
   "outputs": [
    {
     "data": {
      "text/plain": [
       "Request id           0\n",
       "Pickup point         0\n",
       "Driver id            0\n",
       "Status               0\n",
       "Request timestamp    0\n",
       "Drop timestamp       0\n",
       "dtype: int64"
      ]
     },
     "execution_count": 12,
     "metadata": {},
     "output_type": "execute_result"
    }
   ],
   "source": [
    "# Get the column-wise Null count using 'is.null()' alongwith the 'sum()' function\n",
    "uber_data.isnull().sum()"
   ]
  },
  {
   "cell_type": "markdown",
   "id": "63a28a78",
   "metadata": {},
   "source": [
    "### Everything looks good."
   ]
  },
  {
   "cell_type": "markdown",
   "id": "df9c9fe6",
   "metadata": {},
   "source": [
    "## Let's add some more useful features to the dataset."
   ]
  },
  {
   "cell_type": "markdown",
   "id": "df405028",
   "metadata": {},
   "source": [
    "### Making a derived column, 'Duration'"
   ]
  },
  {
   "cell_type": "markdown",
   "id": "8422ca6a",
   "metadata": {},
   "source": [
    "#### DURATION: Shows the duration(time taken) of the trip."
   ]
  },
  {
   "cell_type": "code",
   "execution_count": 13,
   "id": "4ffc61a3",
   "metadata": {},
   "outputs": [],
   "source": [
    "uber_data['Duration'] = uber_data['Drop timestamp']-uber_data['Request timestamp']\n",
    "\n",
    "uber_data['Duration'] = round(uber_data['Duration'].dt.total_seconds()/60,1)"
   ]
  },
  {
   "cell_type": "code",
   "execution_count": 14,
   "id": "40dd3889",
   "metadata": {},
   "outputs": [
    {
     "data": {
      "text/html": [
       "<div>\n",
       "<style scoped>\n",
       "    .dataframe tbody tr th:only-of-type {\n",
       "        vertical-align: middle;\n",
       "    }\n",
       "\n",
       "    .dataframe tbody tr th {\n",
       "        vertical-align: top;\n",
       "    }\n",
       "\n",
       "    .dataframe thead th {\n",
       "        text-align: right;\n",
       "    }\n",
       "</style>\n",
       "<table border=\"1\" class=\"dataframe\">\n",
       "  <thead>\n",
       "    <tr style=\"text-align: right;\">\n",
       "      <th></th>\n",
       "      <th>Request id</th>\n",
       "      <th>Pickup point</th>\n",
       "      <th>Driver id</th>\n",
       "      <th>Status</th>\n",
       "      <th>Request timestamp</th>\n",
       "      <th>Drop timestamp</th>\n",
       "      <th>Duration</th>\n",
       "    </tr>\n",
       "  </thead>\n",
       "  <tbody>\n",
       "    <tr>\n",
       "      <th>0</th>\n",
       "      <td>619</td>\n",
       "      <td>Airport</td>\n",
       "      <td>1</td>\n",
       "      <td>Trip Completed</td>\n",
       "      <td>2016-07-11 11:51:00</td>\n",
       "      <td>2016-07-11 13:00:00</td>\n",
       "      <td>69.0</td>\n",
       "    </tr>\n",
       "    <tr>\n",
       "      <th>1</th>\n",
       "      <td>867</td>\n",
       "      <td>Airport</td>\n",
       "      <td>1</td>\n",
       "      <td>Trip Completed</td>\n",
       "      <td>2016-07-11 17:57:00</td>\n",
       "      <td>2016-07-11 18:47:00</td>\n",
       "      <td>50.0</td>\n",
       "    </tr>\n",
       "    <tr>\n",
       "      <th>2</th>\n",
       "      <td>1807</td>\n",
       "      <td>City</td>\n",
       "      <td>1</td>\n",
       "      <td>Trip Completed</td>\n",
       "      <td>2016-07-12 09:17:00</td>\n",
       "      <td>2016-07-12 09:58:00</td>\n",
       "      <td>41.0</td>\n",
       "    </tr>\n",
       "    <tr>\n",
       "      <th>3</th>\n",
       "      <td>2532</td>\n",
       "      <td>Airport</td>\n",
       "      <td>1</td>\n",
       "      <td>Trip Completed</td>\n",
       "      <td>2016-07-12 21:08:00</td>\n",
       "      <td>2016-07-12 22:03:00</td>\n",
       "      <td>55.0</td>\n",
       "    </tr>\n",
       "    <tr>\n",
       "      <th>4</th>\n",
       "      <td>3112</td>\n",
       "      <td>City</td>\n",
       "      <td>1</td>\n",
       "      <td>Trip Completed</td>\n",
       "      <td>2016-07-13 08:33:16</td>\n",
       "      <td>2016-07-13 09:25:47</td>\n",
       "      <td>52.5</td>\n",
       "    </tr>\n",
       "  </tbody>\n",
       "</table>\n",
       "</div>"
      ],
      "text/plain": [
       "   Request id Pickup point  Driver id          Status   Request timestamp  \\\n",
       "0         619      Airport          1  Trip Completed 2016-07-11 11:51:00   \n",
       "1         867      Airport          1  Trip Completed 2016-07-11 17:57:00   \n",
       "2        1807         City          1  Trip Completed 2016-07-12 09:17:00   \n",
       "3        2532      Airport          1  Trip Completed 2016-07-12 21:08:00   \n",
       "4        3112         City          1  Trip Completed 2016-07-13 08:33:16   \n",
       "\n",
       "       Drop timestamp  Duration  \n",
       "0 2016-07-11 13:00:00      69.0  \n",
       "1 2016-07-11 18:47:00      50.0  \n",
       "2 2016-07-12 09:58:00      41.0  \n",
       "3 2016-07-12 22:03:00      55.0  \n",
       "4 2016-07-13 09:25:47      52.5  "
      ]
     },
     "execution_count": 14,
     "metadata": {},
     "output_type": "execute_result"
    }
   ],
   "source": [
    "uber_data.head()"
   ]
  },
  {
   "cell_type": "markdown",
   "id": "be4b1738",
   "metadata": {},
   "source": [
    "### Making a derived column, 'Slot'"
   ]
  },
  {
   "cell_type": "markdown",
   "id": "a5c61df9",
   "metadata": {},
   "source": [
    "### SLOT : Shows the time slot in which the trip happened."
   ]
  },
  {
   "cell_type": "code",
   "execution_count": 15,
   "id": "43165507",
   "metadata": {},
   "outputs": [],
   "source": [
    "# Creating a function to determine the ride slot on basis of 'Request timestamp'\n",
    "def get_slot(rt):\n",
    "    if rt in range(4,6):\n",
    "        return 'Early Morning'\n",
    "    if rt in range(6,12):\n",
    "        return 'Morning'\n",
    "    if rt in range(12,17):\n",
    "        return 'Afternoon'\n",
    "    if rt in range(17,20):\n",
    "        return 'Evening'\n",
    "    if rt in range(20,24):\n",
    "        return 'Night'\n",
    "    if rt in range(0,4):\n",
    "        return 'Late Night'\n",
    "\n",
    "uber_data['Slot'] = uber_data['Request timestamp'].dt.hour.apply(lambda x: get_slot(x))"
   ]
  },
  {
   "cell_type": "code",
   "execution_count": 16,
   "id": "8d561321",
   "metadata": {},
   "outputs": [
    {
     "data": {
      "text/plain": [
       "array(['Morning', 'Evening', 'Night', 'Early Morning', 'Afternoon',\n",
       "       'Late Night'], dtype=object)"
      ]
     },
     "execution_count": 16,
     "metadata": {},
     "output_type": "execute_result"
    }
   ],
   "source": [
    "# Checking if all rows have been assigned time slots i.e. we do not have null values\n",
    "uber_data['Slot'].unique()"
   ]
  },
  {
   "cell_type": "code",
   "execution_count": 17,
   "id": "d2f2dbde",
   "metadata": {},
   "outputs": [
    {
     "data": {
      "text/plain": [
       "Request id           0\n",
       "Pickup point         0\n",
       "Driver id            0\n",
       "Status               0\n",
       "Request timestamp    0\n",
       "Drop timestamp       0\n",
       "Duration             0\n",
       "Slot                 0\n",
       "dtype: int64"
      ]
     },
     "execution_count": 17,
     "metadata": {},
     "output_type": "execute_result"
    }
   ],
   "source": [
    "uber_data.isnull().sum()"
   ]
  },
  {
   "cell_type": "code",
   "execution_count": 18,
   "id": "ac94f29a",
   "metadata": {},
   "outputs": [
    {
     "data": {
      "text/html": [
       "<div>\n",
       "<style scoped>\n",
       "    .dataframe tbody tr th:only-of-type {\n",
       "        vertical-align: middle;\n",
       "    }\n",
       "\n",
       "    .dataframe tbody tr th {\n",
       "        vertical-align: top;\n",
       "    }\n",
       "\n",
       "    .dataframe thead th {\n",
       "        text-align: right;\n",
       "    }\n",
       "</style>\n",
       "<table border=\"1\" class=\"dataframe\">\n",
       "  <thead>\n",
       "    <tr style=\"text-align: right;\">\n",
       "      <th></th>\n",
       "      <th>Request id</th>\n",
       "      <th>Pickup point</th>\n",
       "      <th>Driver id</th>\n",
       "      <th>Status</th>\n",
       "      <th>Request timestamp</th>\n",
       "      <th>Drop timestamp</th>\n",
       "      <th>Duration</th>\n",
       "      <th>Slot</th>\n",
       "    </tr>\n",
       "  </thead>\n",
       "  <tbody>\n",
       "    <tr>\n",
       "      <th>0</th>\n",
       "      <td>619</td>\n",
       "      <td>Airport</td>\n",
       "      <td>1</td>\n",
       "      <td>Trip Completed</td>\n",
       "      <td>2016-07-11 11:51:00</td>\n",
       "      <td>2016-07-11 13:00:00</td>\n",
       "      <td>69.0</td>\n",
       "      <td>Morning</td>\n",
       "    </tr>\n",
       "    <tr>\n",
       "      <th>1</th>\n",
       "      <td>867</td>\n",
       "      <td>Airport</td>\n",
       "      <td>1</td>\n",
       "      <td>Trip Completed</td>\n",
       "      <td>2016-07-11 17:57:00</td>\n",
       "      <td>2016-07-11 18:47:00</td>\n",
       "      <td>50.0</td>\n",
       "      <td>Evening</td>\n",
       "    </tr>\n",
       "    <tr>\n",
       "      <th>2</th>\n",
       "      <td>1807</td>\n",
       "      <td>City</td>\n",
       "      <td>1</td>\n",
       "      <td>Trip Completed</td>\n",
       "      <td>2016-07-12 09:17:00</td>\n",
       "      <td>2016-07-12 09:58:00</td>\n",
       "      <td>41.0</td>\n",
       "      <td>Morning</td>\n",
       "    </tr>\n",
       "    <tr>\n",
       "      <th>3</th>\n",
       "      <td>2532</td>\n",
       "      <td>Airport</td>\n",
       "      <td>1</td>\n",
       "      <td>Trip Completed</td>\n",
       "      <td>2016-07-12 21:08:00</td>\n",
       "      <td>2016-07-12 22:03:00</td>\n",
       "      <td>55.0</td>\n",
       "      <td>Night</td>\n",
       "    </tr>\n",
       "    <tr>\n",
       "      <th>4</th>\n",
       "      <td>3112</td>\n",
       "      <td>City</td>\n",
       "      <td>1</td>\n",
       "      <td>Trip Completed</td>\n",
       "      <td>2016-07-13 08:33:16</td>\n",
       "      <td>2016-07-13 09:25:47</td>\n",
       "      <td>52.5</td>\n",
       "      <td>Morning</td>\n",
       "    </tr>\n",
       "  </tbody>\n",
       "</table>\n",
       "</div>"
      ],
      "text/plain": [
       "   Request id Pickup point  Driver id          Status   Request timestamp  \\\n",
       "0         619      Airport          1  Trip Completed 2016-07-11 11:51:00   \n",
       "1         867      Airport          1  Trip Completed 2016-07-11 17:57:00   \n",
       "2        1807         City          1  Trip Completed 2016-07-12 09:17:00   \n",
       "3        2532      Airport          1  Trip Completed 2016-07-12 21:08:00   \n",
       "4        3112         City          1  Trip Completed 2016-07-13 08:33:16   \n",
       "\n",
       "       Drop timestamp  Duration     Slot  \n",
       "0 2016-07-11 13:00:00      69.0  Morning  \n",
       "1 2016-07-11 18:47:00      50.0  Evening  \n",
       "2 2016-07-12 09:58:00      41.0  Morning  \n",
       "3 2016-07-12 22:03:00      55.0    Night  \n",
       "4 2016-07-13 09:25:47      52.5  Morning  "
      ]
     },
     "execution_count": 18,
     "metadata": {},
     "output_type": "execute_result"
    }
   ],
   "source": [
    "uber_data.head()"
   ]
  },
  {
   "cell_type": "markdown",
   "id": "6d366c8d",
   "metadata": {},
   "source": [
    "### Making a derived column, 'Hour', representing hour of day"
   ]
  },
  {
   "cell_type": "markdown",
   "id": "0a86c274",
   "metadata": {},
   "source": [
    "### HOUR : Shows the hour in the which the request for the trip made."
   ]
  },
  {
   "cell_type": "code",
   "execution_count": 19,
   "id": "74e22e9c",
   "metadata": {},
   "outputs": [],
   "source": [
    "uber_data['Hour'] = uber_data['Request timestamp'].dt.hour"
   ]
  },
  {
   "cell_type": "code",
   "execution_count": 20,
   "id": "ec37688d",
   "metadata": {},
   "outputs": [
    {
     "name": "stdout",
     "output_type": "stream",
     "text": [
      "[0, 1, 2, 3, 4, 5, 6, 7, 8, 9, 10, 11, 12, 13, 14, 15, 16, 17, 18, 19, 20, 21, 22, 23]\n"
     ]
    }
   ],
   "source": [
    "# Checking if all rows have been assigned days i.e. we do not have null values\n",
    "print(sorted(uber_data['Hour'].unique()))"
   ]
  },
  {
   "cell_type": "code",
   "execution_count": 21,
   "id": "d3ec6085",
   "metadata": {},
   "outputs": [
    {
     "data": {
      "text/plain": [
       "Request id           0\n",
       "Pickup point         0\n",
       "Driver id            0\n",
       "Status               0\n",
       "Request timestamp    0\n",
       "Drop timestamp       0\n",
       "Duration             0\n",
       "Slot                 0\n",
       "Hour                 0\n",
       "dtype: int64"
      ]
     },
     "execution_count": 21,
     "metadata": {},
     "output_type": "execute_result"
    }
   ],
   "source": [
    "uber_data.isnull().sum()"
   ]
  },
  {
   "cell_type": "code",
   "execution_count": 22,
   "id": "425854a3",
   "metadata": {},
   "outputs": [
    {
     "data": {
      "text/html": [
       "<div>\n",
       "<style scoped>\n",
       "    .dataframe tbody tr th:only-of-type {\n",
       "        vertical-align: middle;\n",
       "    }\n",
       "\n",
       "    .dataframe tbody tr th {\n",
       "        vertical-align: top;\n",
       "    }\n",
       "\n",
       "    .dataframe thead th {\n",
       "        text-align: right;\n",
       "    }\n",
       "</style>\n",
       "<table border=\"1\" class=\"dataframe\">\n",
       "  <thead>\n",
       "    <tr style=\"text-align: right;\">\n",
       "      <th></th>\n",
       "      <th>Request id</th>\n",
       "      <th>Pickup point</th>\n",
       "      <th>Driver id</th>\n",
       "      <th>Status</th>\n",
       "      <th>Request timestamp</th>\n",
       "      <th>Drop timestamp</th>\n",
       "      <th>Duration</th>\n",
       "      <th>Slot</th>\n",
       "      <th>Hour</th>\n",
       "    </tr>\n",
       "  </thead>\n",
       "  <tbody>\n",
       "    <tr>\n",
       "      <th>0</th>\n",
       "      <td>619</td>\n",
       "      <td>Airport</td>\n",
       "      <td>1</td>\n",
       "      <td>Trip Completed</td>\n",
       "      <td>2016-07-11 11:51:00</td>\n",
       "      <td>2016-07-11 13:00:00</td>\n",
       "      <td>69.0</td>\n",
       "      <td>Morning</td>\n",
       "      <td>11</td>\n",
       "    </tr>\n",
       "    <tr>\n",
       "      <th>1</th>\n",
       "      <td>867</td>\n",
       "      <td>Airport</td>\n",
       "      <td>1</td>\n",
       "      <td>Trip Completed</td>\n",
       "      <td>2016-07-11 17:57:00</td>\n",
       "      <td>2016-07-11 18:47:00</td>\n",
       "      <td>50.0</td>\n",
       "      <td>Evening</td>\n",
       "      <td>17</td>\n",
       "    </tr>\n",
       "    <tr>\n",
       "      <th>2</th>\n",
       "      <td>1807</td>\n",
       "      <td>City</td>\n",
       "      <td>1</td>\n",
       "      <td>Trip Completed</td>\n",
       "      <td>2016-07-12 09:17:00</td>\n",
       "      <td>2016-07-12 09:58:00</td>\n",
       "      <td>41.0</td>\n",
       "      <td>Morning</td>\n",
       "      <td>9</td>\n",
       "    </tr>\n",
       "    <tr>\n",
       "      <th>3</th>\n",
       "      <td>2532</td>\n",
       "      <td>Airport</td>\n",
       "      <td>1</td>\n",
       "      <td>Trip Completed</td>\n",
       "      <td>2016-07-12 21:08:00</td>\n",
       "      <td>2016-07-12 22:03:00</td>\n",
       "      <td>55.0</td>\n",
       "      <td>Night</td>\n",
       "      <td>21</td>\n",
       "    </tr>\n",
       "    <tr>\n",
       "      <th>4</th>\n",
       "      <td>3112</td>\n",
       "      <td>City</td>\n",
       "      <td>1</td>\n",
       "      <td>Trip Completed</td>\n",
       "      <td>2016-07-13 08:33:16</td>\n",
       "      <td>2016-07-13 09:25:47</td>\n",
       "      <td>52.5</td>\n",
       "      <td>Morning</td>\n",
       "      <td>8</td>\n",
       "    </tr>\n",
       "  </tbody>\n",
       "</table>\n",
       "</div>"
      ],
      "text/plain": [
       "   Request id Pickup point  Driver id          Status   Request timestamp  \\\n",
       "0         619      Airport          1  Trip Completed 2016-07-11 11:51:00   \n",
       "1         867      Airport          1  Trip Completed 2016-07-11 17:57:00   \n",
       "2        1807         City          1  Trip Completed 2016-07-12 09:17:00   \n",
       "3        2532      Airport          1  Trip Completed 2016-07-12 21:08:00   \n",
       "4        3112         City          1  Trip Completed 2016-07-13 08:33:16   \n",
       "\n",
       "       Drop timestamp  Duration     Slot  Hour  \n",
       "0 2016-07-11 13:00:00      69.0  Morning    11  \n",
       "1 2016-07-11 18:47:00      50.0  Evening    17  \n",
       "2 2016-07-12 09:58:00      41.0  Morning     9  \n",
       "3 2016-07-12 22:03:00      55.0    Night    21  \n",
       "4 2016-07-13 09:25:47      52.5  Morning     8  "
      ]
     },
     "execution_count": 22,
     "metadata": {},
     "output_type": "execute_result"
    }
   ],
   "source": [
    "uber_data.head()"
   ]
  },
  {
   "cell_type": "markdown",
   "id": "2ca58a9e",
   "metadata": {},
   "source": [
    "### Making a derived column, 'Day', representing day of week"
   ]
  },
  {
   "cell_type": "markdown",
   "id": "89ae2dc4",
   "metadata": {},
   "source": [
    "### DAY : Shows the day of the trip."
   ]
  },
  {
   "cell_type": "code",
   "execution_count": 23,
   "id": "2b7be16f",
   "metadata": {},
   "outputs": [],
   "source": [
    "# Creating a function to determine the day of week on basis of 'Request timestamp'\n",
    "def get_day(rt):\n",
    "    d = {0:\"Monday\",1:\"Tuesday\",2:\"Wednesday\",3:\"Thursday\",4:\"Friday\",5:\"Saturday\",6:\"Sunday\"}\n",
    "    return d[rt.weekday()]\n",
    "\n",
    "uber_data['Day'] = uber_data['Request timestamp'].apply(lambda x: get_day(x))"
   ]
  },
  {
   "cell_type": "code",
   "execution_count": 24,
   "id": "26e19581",
   "metadata": {},
   "outputs": [
    {
     "name": "stdout",
     "output_type": "stream",
     "text": [
      "['Monday' 'Tuesday' 'Wednesday' 'Thursday' 'Friday']\n"
     ]
    }
   ],
   "source": [
    "# Checking if all rows have been assigned days i.e. we do not have null values\n",
    "print(uber_data['Day'].unique())"
   ]
  },
  {
   "cell_type": "code",
   "execution_count": 25,
   "id": "6876e00a",
   "metadata": {},
   "outputs": [
    {
     "data": {
      "text/plain": [
       "Request id           0\n",
       "Pickup point         0\n",
       "Driver id            0\n",
       "Status               0\n",
       "Request timestamp    0\n",
       "Drop timestamp       0\n",
       "Duration             0\n",
       "Slot                 0\n",
       "Hour                 0\n",
       "Day                  0\n",
       "dtype: int64"
      ]
     },
     "execution_count": 25,
     "metadata": {},
     "output_type": "execute_result"
    }
   ],
   "source": [
    "uber_data.isnull().sum()"
   ]
  },
  {
   "cell_type": "code",
   "execution_count": 26,
   "id": "dbc9b643",
   "metadata": {},
   "outputs": [
    {
     "data": {
      "text/html": [
       "<div>\n",
       "<style scoped>\n",
       "    .dataframe tbody tr th:only-of-type {\n",
       "        vertical-align: middle;\n",
       "    }\n",
       "\n",
       "    .dataframe tbody tr th {\n",
       "        vertical-align: top;\n",
       "    }\n",
       "\n",
       "    .dataframe thead th {\n",
       "        text-align: right;\n",
       "    }\n",
       "</style>\n",
       "<table border=\"1\" class=\"dataframe\">\n",
       "  <thead>\n",
       "    <tr style=\"text-align: right;\">\n",
       "      <th></th>\n",
       "      <th>Request id</th>\n",
       "      <th>Pickup point</th>\n",
       "      <th>Driver id</th>\n",
       "      <th>Status</th>\n",
       "      <th>Request timestamp</th>\n",
       "      <th>Drop timestamp</th>\n",
       "      <th>Duration</th>\n",
       "      <th>Slot</th>\n",
       "      <th>Hour</th>\n",
       "      <th>Day</th>\n",
       "    </tr>\n",
       "  </thead>\n",
       "  <tbody>\n",
       "    <tr>\n",
       "      <th>0</th>\n",
       "      <td>619</td>\n",
       "      <td>Airport</td>\n",
       "      <td>1</td>\n",
       "      <td>Trip Completed</td>\n",
       "      <td>2016-07-11 11:51:00</td>\n",
       "      <td>2016-07-11 13:00:00</td>\n",
       "      <td>69.0</td>\n",
       "      <td>Morning</td>\n",
       "      <td>11</td>\n",
       "      <td>Monday</td>\n",
       "    </tr>\n",
       "    <tr>\n",
       "      <th>1</th>\n",
       "      <td>867</td>\n",
       "      <td>Airport</td>\n",
       "      <td>1</td>\n",
       "      <td>Trip Completed</td>\n",
       "      <td>2016-07-11 17:57:00</td>\n",
       "      <td>2016-07-11 18:47:00</td>\n",
       "      <td>50.0</td>\n",
       "      <td>Evening</td>\n",
       "      <td>17</td>\n",
       "      <td>Monday</td>\n",
       "    </tr>\n",
       "    <tr>\n",
       "      <th>2</th>\n",
       "      <td>1807</td>\n",
       "      <td>City</td>\n",
       "      <td>1</td>\n",
       "      <td>Trip Completed</td>\n",
       "      <td>2016-07-12 09:17:00</td>\n",
       "      <td>2016-07-12 09:58:00</td>\n",
       "      <td>41.0</td>\n",
       "      <td>Morning</td>\n",
       "      <td>9</td>\n",
       "      <td>Tuesday</td>\n",
       "    </tr>\n",
       "    <tr>\n",
       "      <th>3</th>\n",
       "      <td>2532</td>\n",
       "      <td>Airport</td>\n",
       "      <td>1</td>\n",
       "      <td>Trip Completed</td>\n",
       "      <td>2016-07-12 21:08:00</td>\n",
       "      <td>2016-07-12 22:03:00</td>\n",
       "      <td>55.0</td>\n",
       "      <td>Night</td>\n",
       "      <td>21</td>\n",
       "      <td>Tuesday</td>\n",
       "    </tr>\n",
       "    <tr>\n",
       "      <th>4</th>\n",
       "      <td>3112</td>\n",
       "      <td>City</td>\n",
       "      <td>1</td>\n",
       "      <td>Trip Completed</td>\n",
       "      <td>2016-07-13 08:33:16</td>\n",
       "      <td>2016-07-13 09:25:47</td>\n",
       "      <td>52.5</td>\n",
       "      <td>Morning</td>\n",
       "      <td>8</td>\n",
       "      <td>Wednesday</td>\n",
       "    </tr>\n",
       "  </tbody>\n",
       "</table>\n",
       "</div>"
      ],
      "text/plain": [
       "   Request id Pickup point  Driver id          Status   Request timestamp  \\\n",
       "0         619      Airport          1  Trip Completed 2016-07-11 11:51:00   \n",
       "1         867      Airport          1  Trip Completed 2016-07-11 17:57:00   \n",
       "2        1807         City          1  Trip Completed 2016-07-12 09:17:00   \n",
       "3        2532      Airport          1  Trip Completed 2016-07-12 21:08:00   \n",
       "4        3112         City          1  Trip Completed 2016-07-13 08:33:16   \n",
       "\n",
       "       Drop timestamp  Duration     Slot  Hour        Day  \n",
       "0 2016-07-11 13:00:00      69.0  Morning    11     Monday  \n",
       "1 2016-07-11 18:47:00      50.0  Evening    17     Monday  \n",
       "2 2016-07-12 09:58:00      41.0  Morning     9    Tuesday  \n",
       "3 2016-07-12 22:03:00      55.0    Night    21    Tuesday  \n",
       "4 2016-07-13 09:25:47      52.5  Morning     8  Wednesday  "
      ]
     },
     "execution_count": 26,
     "metadata": {},
     "output_type": "execute_result"
    }
   ],
   "source": [
    "uber_data.head()"
   ]
  },
  {
   "cell_type": "markdown",
   "id": "d2f17d59",
   "metadata": {},
   "source": [
    "# Visualizing"
   ]
  },
  {
   "cell_type": "markdown",
   "id": "0da857fd",
   "metadata": {},
   "source": [
    "### Univariate analysis for some columns of dataset."
   ]
  },
  {
   "cell_type": "code",
   "execution_count": 27,
   "id": "9412e27c",
   "metadata": {},
   "outputs": [
    {
     "data": {
      "text/plain": [
       "array(['Airport', 'City'], dtype=object)"
      ]
     },
     "execution_count": 27,
     "metadata": {},
     "output_type": "execute_result"
    }
   ],
   "source": [
    "# Checking the distinct pick-up points for uber cabs.\n",
    "\n",
    "uber_data['Pickup point'].unique()"
   ]
  },
  {
   "cell_type": "markdown",
   "id": "6b6fdf62",
   "metadata": {},
   "source": [
    "#### As we can see their is only two pick-up point i.e. airport and city which is obvious because the dataset contains trip details from airport to city and vice- versa only."
   ]
  },
  {
   "cell_type": "code",
   "execution_count": 28,
   "id": "3aade475",
   "metadata": {},
   "outputs": [
    {
     "data": {
      "text/plain": [
       "<AxesSubplot:>"
      ]
     },
     "execution_count": 28,
     "metadata": {},
     "output_type": "execute_result"
    },
    {
     "data": {
      "image/png": "[encoded data removed]",
      "text/plain": [
       "<Figure size 432x288 with 1 Axes>"
      ]
     },
     "metadata": {
      "needs_background": "light"
     },
     "output_type": "display_data"
    }
   ],
   "source": [
    "# Checking the demand for cabs.\n",
    "\n",
    "uber_data['Pickup point'].value_counts().plot(kind='bar',color=['orange', 'red'])"
   ]
  },
  {
   "cell_type": "markdown",
   "id": "1b4f0f1a",
   "metadata": {},
   "source": [
    "- we can see that the demand of cabs from airport to city and city to airport is approximately equal."
   ]
  },
  {
   "cell_type": "code",
   "execution_count": 29,
   "id": "1c81ff5e",
   "metadata": {},
   "outputs": [
    {
     "data": {
      "text/plain": [
       "array(['Trip Completed', 'Cancelled', 'No Cars Available'], dtype=object)"
      ]
     },
     "execution_count": 29,
     "metadata": {},
     "output_type": "execute_result"
    }
   ],
   "source": [
    "# Checking the distinct status for the trips.\n",
    "\n",
    "uber_data['Status'].unique()"
   ]
  },
  {
   "cell_type": "markdown",
   "id": "89c214c5",
   "metadata": {},
   "source": [
    "- so there are only three type of trip status i.e. if the ride was completed succesfully or if it was cancelled or if there is no car availability issue"
   ]
  },
  {
   "cell_type": "code",
   "execution_count": 30,
   "id": "e64dd6b3",
   "metadata": {},
   "outputs": [
    {
     "data": {
      "image/png": "[encoded data removed]",
      "text/plain": [
       "<Figure size 432x288 with 1 Axes>"
      ]
     },
     "metadata": {
      "needs_background": "light"
     },
     "output_type": "display_data"
    }
   ],
   "source": [
    "# Let's visualize the status of the trips.\n",
    "\n",
    "uber_data['Status'].value_counts().plot(kind='bar',color=['green', 'blue', 'orange'])\n",
    "color=['black', 'red', 'green', 'blue', 'cyan']"
   ]
  },
  {
   "cell_type": "markdown",
   "id": "2a867ca7",
   "metadata": {},
   "source": [
    "- Here we can see that (No cars Available + Cancelled) > (Trip Completed).\n",
    "- So it means that uber is not able to succesfully handle more than 50 percent of the requests."
   ]
  },
  {
   "cell_type": "markdown",
   "id": "7336f15c",
   "metadata": {},
   "source": [
    "## Bivariate analysis."
   ]
  },
  {
   "cell_type": "markdown",
   "id": "63b47203",
   "metadata": {},
   "source": [
    "### Trying to identify the pressing problems for Uber. "
   ]
  },
  {
   "cell_type": "code",
   "execution_count": 31,
   "id": "23f83a23",
   "metadata": {},
   "outputs": [
    {
     "data": {
      "text/plain": [
       "<seaborn.axisgrid.FacetGrid at 0x1e5c2eca130>"
      ]
     },
     "execution_count": 31,
     "metadata": {},
     "output_type": "execute_result"
    },
    {
     "data": {
      "image/png": "[encoded data removed]",
      "text/plain": [
       "<Figure size 771.5x432 with 2 Axes>"
      ]
     },
     "metadata": {
      "needs_background": "light"
     },
     "output_type": "display_data"
    }
   ],
   "source": [
    "# Using factorplot since we have to visualize the spread of count of trips broken down by status of trip and pickup point\n",
    "\n",
    "# plot hour w.r.t. status for different pickup points and identify the pressing problems for Uber; Incomplete trips only\n",
    "\n",
    "sns.factorplot(x = \"Hour\", hue = \"Status\", row = \"Pickup point\", data = uber_data[uber_data['Status']!='Trip Completed'], kind = \"count\", size=3, aspect=3)"
   ]
  },
  {
   "cell_type": "markdown",
   "id": "0d627c90",
   "metadata": {},
   "source": [
    "**Inference 1**: Uber is facing 'No Car Available' issue at Airport in evening and night (5pm to 12am)"
   ]
  },
  {
   "cell_type": "markdown",
   "id": "81b499f0",
   "metadata": {},
   "source": [
    "**Inference 2**: Uber is facing cab 'Cancelled' issue in City during early morning and morning (4am to 10am)"
   ]
  },
  {
   "cell_type": "markdown",
   "id": "3003faae",
   "metadata": {},
   "source": [
    "**Inference 3**: Uber is facing 'No Car Available' issue in City during early morning and morning (4am to 10am)"
   ]
  },
  {
   "cell_type": "markdown",
   "id": "66eb1de9",
   "metadata": {},
   "source": []
  },
  {
   "cell_type": "markdown",
   "id": "5096d357",
   "metadata": {},
   "source": [
    "### Checking if the problem is similar across all days"
   ]
  },
  {
   "cell_type": "code",
   "execution_count": 32,
   "id": "21c41ea1",
   "metadata": {},
   "outputs": [
    {
     "data": {
      "text/plain": [
       "<seaborn.axisgrid.FacetGrid at 0x1e5c2ef56a0>"
      ]
     },
     "execution_count": 32,
     "metadata": {},
     "output_type": "execute_result"
    },
    {
     "data": {
      "image/png": "[encoded data removed]",
      "text/plain": [
       "<Figure size 771.5x1080 with 5 Axes>"
      ]
     },
     "metadata": {
      "needs_background": "light"
     },
     "output_type": "display_data"
    }
   ],
   "source": [
    "# Using factorplot since we have to visualize the spread of count of trips broken down by status of trip and day of week\n",
    "\n",
    "# For pickup point Airport; Incomplete trips\n",
    "\n",
    "# factor plot of hour and day of week w.r.t. status\n",
    "\n",
    "sns.factorplot(x = \"Hour\", hue = \"Status\", row = \"Day\", data = uber_data[(uber_data['Pickup point']==\"Airport\")&(uber_data['Status']!='Trip Completed')], kind = \"count\", size=3, aspect=3)"
   ]
  },
  {
   "cell_type": "markdown",
   "id": "25bbf9b1",
   "metadata": {},
   "source": [
    "- For pickup point Airport, uber is facing the same problem in all the working days of the week."
   ]
  },
  {
   "cell_type": "code",
   "execution_count": 33,
   "id": "ebaf5e8d",
   "metadata": {},
   "outputs": [
    {
     "data": {
      "text/plain": [
       "<seaborn.axisgrid.FacetGrid at 0x1e5c37f9670>"
      ]
     },
     "execution_count": 33,
     "metadata": {},
     "output_type": "execute_result"
    },
    {
     "data": {
      "image/png": "[encoded data removed]",
      "text/plain": [
       "<Figure size 771.5x1080 with 5 Axes>"
      ]
     },
     "metadata": {
      "needs_background": "light"
     },
     "output_type": "display_data"
    }
   ],
   "source": [
    "# Using factorplot since we have to visualize the spread of count of trips broken down by status of trip and day of week\n",
    "\n",
    "# For pickup point City; Incomplete trips\n",
    "\n",
    "# factor plot of hour and day of week w.r.t. status\n",
    "\n",
    "sns.factorplot(x = \"Hour\", hue = \"Status\", row = \"Day\", data = uber_data[(uber_data['Pickup point']==\"City\")&(uber_data['Status']!='Trip Completed')], kind = \"count\", size=3, aspect=3)"
   ]
  },
  {
   "cell_type": "markdown",
   "id": "601dae59",
   "metadata": {},
   "source": [
    "**Inference 4**: Uber is facing similar problem across all days of week "
   ]
  },
  {
   "cell_type": "markdown",
   "id": "a7e3db43",
   "metadata": {},
   "source": [
    "### Finding out the gap between supply and demand and show the same using plots."
   ]
  },
  {
   "cell_type": "code",
   "execution_count": 34,
   "id": "6437ad10",
   "metadata": {},
   "outputs": [
    {
     "name": "stdout",
     "output_type": "stream",
     "text": [
      "Count of Total Trip Requested\n",
      "6745\n",
      "Count of Completed Trip\n",
      "2831\n",
      "Percent of Completed Trip\n",
      "42 2\n",
      "Count of Trip that did not happened\n",
      "3914\n",
      "Percent of Trip that did not happened\n",
      "58 2\n"
     ]
    }
   ],
   "source": [
    "# Computing overall Demand-Supply gap\n",
    "# Count of Total Trip Requested\n",
    "print('Count of Total Trip Requested')\n",
    "total_trip_count = uber_data['Request id'].count()\n",
    "print(total_trip_count)\n",
    "\n",
    "# Count of Completed Trip\n",
    "print('Count of Completed Trip')\n",
    "print(uber_data[uber_data['Status']=='Trip Completed']['Request id'].count())\n",
    "\n",
    "# Percent of Completed Trip\n",
    "print('Percent of Completed Trip')\n",
    "print(round(100*uber_data[uber_data['Status']=='Trip Completed']['Request id'].count()/total_trip_count),2)\n",
    "\n",
    "# Count of Trip that did not happened\n",
    "print('Count of Trip that did not happened')\n",
    "print(uber_data[uber_data['Status']!='Trip Completed']['Request id'].count())\n",
    "\n",
    "# Percent of Trip that did not happened\n",
    "print('Percent of Trip that did not happened')\n",
    "print(round(100*uber_data[uber_data['Status']!='Trip Completed']['Request id'].count()/total_trip_count),2)"
   ]
  },
  {
   "cell_type": "code",
   "execution_count": 35,
   "id": "abeadb7d",
   "metadata": {},
   "outputs": [
    {
     "data": {
      "text/plain": [
       "<seaborn.axisgrid.FacetGrid at 0x1e5c32d4c40>"
      ]
     },
     "execution_count": 35,
     "metadata": {},
     "output_type": "execute_result"
    },
    {
     "data": {
      "image/png": "[encoded data removed]",
      "text/plain": [
       "<Figure size 771.5x432 with 2 Axes>"
      ]
     },
     "metadata": {
      "needs_background": "light"
     },
     "output_type": "display_data"
    }
   ],
   "source": [
    "# Using factorplot since we have to visualize the spread of count of trips broken down by status of trip and pickup point\n",
    "\n",
    "# factor plot of hour w.r.t. status for different pickup points; All trips\n",
    "\n",
    "sns.factorplot(x = \"Hour\", hue = \"Status\", row = \"Pickup point\", data = uber_data, kind = \"count\", size=3, aspect=3)"
   ]
  },
  {
   "cell_type": "markdown",
   "id": "e90210e4",
   "metadata": {},
   "source": [
    "**Inference 5**: At Airport, demand is higher than supply during evening and night (5pm to 12am)"
   ]
  },
  {
   "cell_type": "markdown",
   "id": "6b25580e",
   "metadata": {},
   "source": [
    "**Inference 6**: In City, demand is greater than supply during early morning and morning (4am to 10am)"
   ]
  },
  {
   "cell_type": "code",
   "execution_count": 36,
   "id": "7dad6ad7",
   "metadata": {},
   "outputs": [],
   "source": [
    "# Function to create pie chart for demand-supply\n",
    "def pie_chart(dataframe, title):\n",
    "    \"\"\"\n",
    "    creates a pie chart\n",
    "    input: dataframe with a 'category' as index and a numerical column, title for pie chart\n",
    "    output: pie chart\n",
    "    \"\"\"\n",
    "    labels = dataframe.index.values\n",
    "    sizes = dataframe['Status'].values\n",
    "    \n",
    "    fig1, ax = plt.subplots()\n",
    "    ax.pie(sizes, labels=labels, autopct='%1.1f%%', shadow=True, startangle=90)\n",
    "    ax.axis('equal')\n",
    "    ax.set_title(title)\n",
    "    plt.show()"
   ]
  },
  {
   "cell_type": "markdown",
   "id": "3b47641a",
   "metadata": {},
   "source": [
    "#### Visualizing Inference 5 (Only 24.7% demands were fulfilled) during evening and night (5pm to 12am)"
   ]
  },
  {
   "cell_type": "code",
   "execution_count": 37,
   "id": "154f4ac4",
   "metadata": {},
   "outputs": [
    {
     "data": {
      "image/png": "[encoded data removed]",
      "text/plain": [
       "<Figure size 432x288 with 1 Axes>"
      ]
     },
     "metadata": {},
     "output_type": "display_data"
    }
   ],
   "source": [
    "# Using pie chart since we have to visualize composition\n",
    "\n",
    "# Visualizing supply-demand at Airport during evening and night (5pm to 12am)\n",
    "\n",
    "df_airport_count = pd.DataFrame(\n",
    "    uber_data[(uber_data['Pickup point']=='Airport')&((uber_data['Slot']==\"Evening\")|(uber_data['Slot']==\"Night\"))]\n",
    "    .Status.value_counts())\n",
    "pie_chart(df_airport_count, \"At Airport during evening and night (5pm to 12am)\")"
   ]
  },
  {
   "cell_type": "markdown",
   "id": "f87f695c",
   "metadata": {},
   "source": [
    "#### Visualizing Inference 6 (Only 30.9% demands were fulfilled) during evening and night (5pm to 12am)"
   ]
  },
  {
   "cell_type": "code",
   "execution_count": 38,
   "id": "b554eb45",
   "metadata": {},
   "outputs": [
    {
     "data": {
      "image/png": "[encoded data removed]",
      "text/plain": [
       "<Figure size 432x288 with 1 Axes>"
      ]
     },
     "metadata": {},
     "output_type": "display_data"
    }
   ],
   "source": [
    "# Using pie chart since we have to visualize composition\n",
    "# Visualizing supply-demand in City during early morning and morning (4am to 12pm)\n",
    "df_airport_count = pd.DataFrame(\n",
    "    uber_data[(uber_data['Pickup point']=='City')&((uber_data['Slot']==\"Early Morning\")|(uber_data['Slot']==\"Morning\"))]\n",
    "    .Status.value_counts())\n",
    "pie_chart(df_airport_count, \"In City during early morning and morning (4am to 12pm)\")"
   ]
  },
  {
   "cell_type": "markdown",
   "id": "9812f644",
   "metadata": {},
   "source": [
    "## Analysing Issue"
   ]
  },
  {
   "cell_type": "markdown",
   "id": "d11b7dfd",
   "metadata": {},
   "source": [
    "### Univariate and Segmented analysis"
   ]
  },
  {
   "cell_type": "code",
   "execution_count": 39,
   "id": "64a17a99",
   "metadata": {},
   "outputs": [
    {
     "data": {
      "text/plain": [
       "<AxesSubplot:>"
      ]
     },
     "execution_count": 39,
     "metadata": {},
     "output_type": "execute_result"
    },
    {
     "data": {
      "image/png": "[encoded data removed]",
      "text/plain": [
       "<Figure size 432x288 with 1 Axes>"
      ]
     },
     "metadata": {
      "needs_background": "light"
     },
     "output_type": "display_data"
    }
   ],
   "source": [
    "# Using Box plot since we have to visualize variation in one field.\n",
    "\n",
    "# Box plot for univariate analysis of 'Duration' field.\n",
    "\n",
    "sns.boxplot(data=uber_data[(uber_data['Duration']>0)]['Duration'])"
   ]
  },
  {
   "cell_type": "code",
   "execution_count": 40,
   "id": "359da567",
   "metadata": {},
   "outputs": [
    {
     "data": {
      "text/plain": [
       "<AxesSubplot:xlabel='Hour', ylabel='Duration'>"
      ]
     },
     "execution_count": 40,
     "metadata": {},
     "output_type": "execute_result"
    },
    {
     "data": {
      "image/png": "[encoded data removed]",
      "text/plain": [
       "<Figure size 432x288 with 1 Axes>"
      ]
     },
     "metadata": {
      "needs_background": "light"
     },
     "output_type": "display_data"
    }
   ],
   "source": [
    "# For Airport to City rides.\n",
    "\n",
    "# Using scatterplot (regplot) since we have to visualize corelation, if any.\n",
    "\n",
    "# scatter plot of hour w.r.t. Duration\n",
    "\n",
    "sns.regplot(x = \"Hour\", y = \"Duration\", data = uber_data[(uber_data['Duration']>0)&(uber_data['Pickup point']=='Airport')])"
   ]
  },
  {
   "cell_type": "code",
   "execution_count": 41,
   "id": "b30e8d33",
   "metadata": {},
   "outputs": [
    {
     "data": {
      "text/plain": [
       "<AxesSubplot:xlabel='Hour', ylabel='Duration'>"
      ]
     },
     "execution_count": 41,
     "metadata": {},
     "output_type": "execute_result"
    },
    {
     "data": {
      "image/png": "[encoded data removed]",
      "text/plain": [
       "<Figure size 432x288 with 1 Axes>"
      ]
     },
     "metadata": {
      "needs_background": "light"
     },
     "output_type": "display_data"
    }
   ],
   "source": [
    "# For City to Airport rides.\n",
    "\n",
    "# Using scatterplot (regplot) since we have to visualize corelation, if any.\n",
    "\n",
    "# scatter plot of hour w.r.t. Duration.\n",
    "\n",
    "sns.regplot(x = \"Hour\", y = \"Duration\", data = uber_data[(uber_data['Duration']>0)&(uber_data['Pickup point']=='City')])"
   ]
  },
  {
   "cell_type": "markdown",
   "id": "319d7f51",
   "metadata": {},
   "source": [
    "**Inference 1**: Ride durations does not vary much for various slots and for various rides (airport to city) or (city to airport), thus traffic conjession is not an issue causing factor."
   ]
  },
  {
   "cell_type": "markdown",
   "id": "f2ade61b",
   "metadata": {},
   "source": [
    "### Checking if driver wait time at airport is an issue causing factor"
   ]
  },
  {
   "cell_type": "markdown",
   "id": "81ab731f",
   "metadata": {},
   "source": [
    "#### Calculating driver wait time at airport"
   ]
  },
  {
   "cell_type": "code",
   "execution_count": 42,
   "id": "652d4282",
   "metadata": {},
   "outputs": [
    {
     "data": {
      "text/html": [
       "<div>\n",
       "<style scoped>\n",
       "    .dataframe tbody tr th:only-of-type {\n",
       "        vertical-align: middle;\n",
       "    }\n",
       "\n",
       "    .dataframe tbody tr th {\n",
       "        vertical-align: top;\n",
       "    }\n",
       "\n",
       "    .dataframe thead th {\n",
       "        text-align: right;\n",
       "    }\n",
       "</style>\n",
       "<table border=\"1\" class=\"dataframe\">\n",
       "  <thead>\n",
       "    <tr style=\"text-align: right;\">\n",
       "      <th></th>\n",
       "      <th>Request id</th>\n",
       "      <th>Pickup point</th>\n",
       "      <th>Driver id</th>\n",
       "      <th>Status</th>\n",
       "      <th>Request timestamp</th>\n",
       "      <th>Drop timestamp</th>\n",
       "      <th>Duration</th>\n",
       "      <th>Slot</th>\n",
       "      <th>Hour</th>\n",
       "      <th>Day</th>\n",
       "      <th>Wait Duration</th>\n",
       "    </tr>\n",
       "  </thead>\n",
       "  <tbody>\n",
       "    <tr>\n",
       "      <th>1</th>\n",
       "      <td>867</td>\n",
       "      <td>Airport</td>\n",
       "      <td>1</td>\n",
       "      <td>Trip Completed</td>\n",
       "      <td>2016-07-11 17:57:00</td>\n",
       "      <td>2016-07-11 18:47:00</td>\n",
       "      <td>50.0</td>\n",
       "      <td>Evening</td>\n",
       "      <td>17</td>\n",
       "      <td>Monday</td>\n",
       "      <td>297.0</td>\n",
       "    </tr>\n",
       "    <tr>\n",
       "      <th>2</th>\n",
       "      <td>1807</td>\n",
       "      <td>City</td>\n",
       "      <td>1</td>\n",
       "      <td>Trip Completed</td>\n",
       "      <td>2016-07-12 09:17:00</td>\n",
       "      <td>2016-07-12 09:58:00</td>\n",
       "      <td>41.0</td>\n",
       "      <td>Morning</td>\n",
       "      <td>9</td>\n",
       "      <td>Tuesday</td>\n",
       "      <td>870.0</td>\n",
       "    </tr>\n",
       "    <tr>\n",
       "      <th>3</th>\n",
       "      <td>2532</td>\n",
       "      <td>Airport</td>\n",
       "      <td>1</td>\n",
       "      <td>Trip Completed</td>\n",
       "      <td>2016-07-12 21:08:00</td>\n",
       "      <td>2016-07-12 22:03:00</td>\n",
       "      <td>55.0</td>\n",
       "      <td>Night</td>\n",
       "      <td>21</td>\n",
       "      <td>Tuesday</td>\n",
       "      <td>670.0</td>\n",
       "    </tr>\n",
       "    <tr>\n",
       "      <th>4</th>\n",
       "      <td>3112</td>\n",
       "      <td>City</td>\n",
       "      <td>1</td>\n",
       "      <td>Trip Completed</td>\n",
       "      <td>2016-07-13 08:33:16</td>\n",
       "      <td>2016-07-13 09:25:47</td>\n",
       "      <td>52.5</td>\n",
       "      <td>Morning</td>\n",
       "      <td>8</td>\n",
       "      <td>Wednesday</td>\n",
       "      <td>630.3</td>\n",
       "    </tr>\n",
       "    <tr>\n",
       "      <th>5</th>\n",
       "      <td>3879</td>\n",
       "      <td>Airport</td>\n",
       "      <td>1</td>\n",
       "      <td>Trip Completed</td>\n",
       "      <td>2016-07-13 21:57:28</td>\n",
       "      <td>2016-07-13 22:28:59</td>\n",
       "      <td>31.5</td>\n",
       "      <td>Night</td>\n",
       "      <td>21</td>\n",
       "      <td>Wednesday</td>\n",
       "      <td>751.7</td>\n",
       "    </tr>\n",
       "  </tbody>\n",
       "</table>\n",
       "</div>"
      ],
      "text/plain": [
       "   Request id Pickup point  Driver id          Status   Request timestamp  \\\n",
       "1         867      Airport          1  Trip Completed 2016-07-11 17:57:00   \n",
       "2        1807         City          1  Trip Completed 2016-07-12 09:17:00   \n",
       "3        2532      Airport          1  Trip Completed 2016-07-12 21:08:00   \n",
       "4        3112         City          1  Trip Completed 2016-07-13 08:33:16   \n",
       "5        3879      Airport          1  Trip Completed 2016-07-13 21:57:28   \n",
       "\n",
       "       Drop timestamp  Duration     Slot  Hour        Day  Wait Duration  \n",
       "1 2016-07-11 18:47:00      50.0  Evening    17     Monday          297.0  \n",
       "2 2016-07-12 09:58:00      41.0  Morning     9    Tuesday          870.0  \n",
       "3 2016-07-12 22:03:00      55.0    Night    21    Tuesday          670.0  \n",
       "4 2016-07-13 09:25:47      52.5  Morning     8  Wednesday          630.3  \n",
       "5 2016-07-13 22:28:59      31.5    Night    21  Wednesday          751.7  "
      ]
     },
     "execution_count": 42,
     "metadata": {},
     "output_type": "execute_result"
    }
   ],
   "source": [
    "# Making a copy of original dataframe\n",
    "wait_ud = uber_data.copy()\n",
    "\n",
    "# Dropping rows with no driver id since those cannot be used for this analysis\n",
    "wait_ud['Driver id'].dropna()\n",
    "\n",
    "# Sorting data accordingly for next calculation\n",
    "wait_ud = wait_ud[wait_ud['Status']=='Trip Completed'].sort_values(by=['Driver id','Request timestamp'])\n",
    "\n",
    "# Computing wait duration by calculating difference of current Request Timestamp and previous Drop Timestamp\n",
    "wait_ud['Wait Duration'] = wait_ud['Request timestamp']-wait_ud['Drop timestamp'].shift() #(if R. time of 4 than D. time of 3) \n",
    "\n",
    "# Canverting wait duration to munutes\n",
    "wait_ud['Wait Duration'] = round(wait_ud['Wait Duration'].dt.total_seconds()/60,1)\n",
    "\n",
    "# Dropping rows where wait duration could not be computed\n",
    "wait_ud['Wait Duration'].dropna()\n",
    "\n",
    "\n",
    "# Removing the first trip for each driver since wait time for that can not be calculated\n",
    "wait_ud = wait_ud[wait_ud['Wait Duration']>0]\n",
    "\n",
    "# We are only interested in calculating wait time for the rides that actually took place\n",
    "wait_ud = wait_ud[wait_ud['Status']=='Trip Completed']\n",
    "\n",
    "wait_ud.head()"
   ]
  },
  {
   "cell_type": "code",
   "execution_count": 43,
   "id": "58a7f68b",
   "metadata": {},
   "outputs": [
    {
     "data": {
      "text/plain": [
       "count    2531.000000\n",
       "mean      646.388779\n",
       "std       543.267221\n",
       "min         2.000000\n",
       "25%       247.350000\n",
       "50%       508.300000\n",
       "75%       862.950000\n",
       "max      4794.400000\n",
       "Name: Wait Duration, dtype: float64"
      ]
     },
     "execution_count": 43,
     "metadata": {},
     "output_type": "execute_result"
    }
   ],
   "source": [
    "# Univariate analysis for 'Wait Duration' field.\n",
    "\n",
    "wait_ud['Wait Duration'].describe()"
   ]
  },
  {
   "cell_type": "markdown",
   "id": "841d27a2",
   "metadata": {},
   "source": [
    "**Inferance :** Here we can see that mean waiting time is approx 646 minutes."
   ]
  },
  {
   "cell_type": "markdown",
   "id": "b32fd189",
   "metadata": {},
   "source": [
    "## Let's visualize the same."
   ]
  },
  {
   "cell_type": "code",
   "execution_count": 44,
   "id": "a6e12474",
   "metadata": {},
   "outputs": [
    {
     "data": {
      "text/plain": [
       "<AxesSubplot:xlabel='Hour', ylabel='Wait Duration'>"
      ]
     },
     "execution_count": 44,
     "metadata": {},
     "output_type": "execute_result"
    },
    {
     "data": {
      "image/png": "[encoded data removed]",
      "text/plain": [
       "<Figure size 432x288 with 1 Axes>"
      ]
     },
     "metadata": {
      "needs_background": "light"
     },
     "output_type": "display_data"
    }
   ],
   "source": [
    "# Wait time at Airport.\n",
    "\n",
    "# Using scatterplot (regplot) since we have to visualize corelation, if any.\n",
    "\n",
    "# scatter plot of hour w.r.t. Wait Duration \n",
    "\n",
    "sns.regplot(x = \"Hour\", y = \"Wait Duration\", data = wait_ud[wait_ud['Pickup point']=='Airport'])"
   ]
  },
  {
   "cell_type": "markdown",
   "id": "8c4c3e01",
   "metadata": {},
   "source": [
    "**Inference :**: Wait time for next rides from airport is comparatively high during 5am to 9am. The same is seen during 7pm to 11pm."
   ]
  },
  {
   "cell_type": "markdown",
   "id": "0196c0b3",
   "metadata": {},
   "source": [
    "## We can see from the above plot that the average waiting time is approx same as 646 minutes."
   ]
  },
  {
   "cell_type": "markdown",
   "id": "6e212ed3",
   "metadata": {},
   "source": [
    "### Problem Summary :- \n",
    "* We have comparatively high wait time at Airport during early-morning, morning and also during evening, night.\n",
    "* Cab drivers may not prefer to take bookings in city for airport in order to avoid waiting time at airport, waiting for next ride.\n",
    "* Thus, Driver Wait Duration could be causing problems faced by Uber."
   ]
  },
  {
   "cell_type": "markdown",
   "id": "17691f89",
   "metadata": {},
   "source": [
    "## Solution Summary :-\n",
    "* For addressing early morning and morning 'Cancelled' rides\n",
    "    * Penalty for driver cancelling Airport booking thrice a day\n",
    "    * Provide incentive to drivers for Airport Rides / Airport Wait Duration\n",
    "* For addressing 'No Car Available' issue at Airport in evening and night\n",
    "    * Airport Rides can be given weightage of 1.5 ride count\n",
    "    * Exempt drivers with Airport Rides from daily minimum rides \n",
    "* For addressing ‘No Car Available' issue in City during early morning and morning\n",
    "    * Provide incentive to drivers for Airport Rides / Airport Wait Duration\n",
    "* And company can add some more users(cab drivers) in team. [Not profitable decision though]\n"
   ]
  },
  {
   "cell_type": "markdown",
   "id": "91e8e1d4",
   "metadata": {},
   "source": []
  }
 ],
 "metadata": {
  "kernelspec": {
   "display_name": "Python 3 (ipykernel)",
   "language": "python",
   "name": "python3"
  },
  "language_info": {
   "codemirror_mode": {
    "name": "ipython",
    "version": 3
   },
   "file_extension": ".py",
   "mimetype": "text/x-python",
   "name": "python",
   "nbconvert_exporter": "python",
   "pygments_lexer": "ipython3",
   "version": "3.9.7"
  }
 },
 "nbformat": 4,
 "nbformat_minor": 5
}
