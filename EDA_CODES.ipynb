{
 "cells": [
  {
   "cell_type": "markdown",
   "id": "999b271e",
   "metadata": {},
   "source": [
    "# Uber Supply-Demand Gap"
   ]
  },
  {
   "cell_type": "markdown",
   "id": "6ded161c",
   "metadata": {},
   "source": [
    "<h1>Name : Vikash Kumar Shrivastava</h1>\n",
    "<h2>Reg. No. : 12018607</h2>\n",
    "<h2>Section : K20RU</h2>"
   ]
  },
  {
   "cell_type": "markdown",
   "id": "50145a2b",
   "metadata": {},
   "source": [
    "## Importing numpy and pandas libraries"
   ]
  },
  {
   "cell_type": "code",
   "execution_count": 1,
   "id": "8173f8c7",
   "metadata": {},
   "outputs": [],
   "source": [
    "# Import the numpy and pandas packages\n",
    "import numpy as np\n",
    "import pandas as pd\n",
    "\n",
    "import warnings\n",
    "warnings.filterwarnings(\"ignore\")"
   ]
  },
  {
   "cell_type": "markdown",
   "id": "b610252c",
   "metadata": {},
   "source": [
    "## Importing matplotlib and seaborn libraries"
   ]
  },
  {
   "cell_type": "code",
   "execution_count": 2,
   "id": "2cec621c",
   "metadata": {},
   "outputs": [],
   "source": [
    "import matplotlib.pyplot as plt\n",
    "import seaborn as sns"
   ]
  },
  {
   "cell_type": "markdown",
   "id": "c579e6e7",
   "metadata": {},
   "source": [
    "## Importing Data from CSV"
   ]
  },
  {
   "cell_type": "code",
   "execution_count": 3,
   "id": "d2f9ce7a",
   "metadata": {},
   "outputs": [],
   "source": [
    "# Read the csv file using 'read_csv'\n",
    "uber_data = pd.read_csv('Uber Request Data.csv')"
   ]
  },
  {
   "cell_type": "markdown",
   "id": "7281541e",
   "metadata": {},
   "source": [
    "## Inspecting the dataframe"
   ]
  },
  {
   "cell_type": "code",
   "execution_count": 4,
   "id": "dcb74971",
   "metadata": {},
   "outputs": [
    {
     "data": {
      "text/html": [
       "<div>\n",
       "<style scoped>\n",
       "    .dataframe tbody tr th:only-of-type {\n",
       "        vertical-align: middle;\n",
       "    }\n",
       "\n",
       "    .dataframe tbody tr th {\n",
       "        vertical-align: top;\n",
       "    }\n",
       "\n",
       "    .dataframe thead th {\n",
       "        text-align: right;\n",
       "    }\n",
       "</style>\n",
       "<table border=\"1\" class=\"dataframe\">\n",
       "  <thead>\n",
       "    <tr style=\"text-align: right;\">\n",
       "      <th></th>\n",
       "      <th>Request id</th>\n",
       "      <th>Pickup point</th>\n",
       "      <th>Driver id</th>\n",
       "      <th>Status</th>\n",
       "      <th>Request timestamp</th>\n",
       "      <th>Drop timestamp</th>\n",
       "    </tr>\n",
       "  </thead>\n",
       "  <tbody>\n",
       "    <tr>\n",
       "      <th>0</th>\n",
       "      <td>619</td>\n",
       "      <td>Airport</td>\n",
       "      <td>1.0</td>\n",
       "      <td>Trip Completed</td>\n",
       "      <td>11/7/2016 11:51</td>\n",
       "      <td>11/7/2016 13:00</td>\n",
       "    </tr>\n",
       "    <tr>\n",
       "      <th>1</th>\n",
       "      <td>867</td>\n",
       "      <td>Airport</td>\n",
       "      <td>1.0</td>\n",
       "      <td>Trip Completed</td>\n",
       "      <td>11/7/2016 17:57</td>\n",
       "      <td>11/7/2016 18:47</td>\n",
       "    </tr>\n",
       "    <tr>\n",
       "      <th>2</th>\n",
       "      <td>1807</td>\n",
       "      <td>City</td>\n",
       "      <td>1.0</td>\n",
       "      <td>Trip Completed</td>\n",
       "      <td>12/7/2016 9:17</td>\n",
       "      <td>12/7/2016 9:58</td>\n",
       "    </tr>\n",
       "    <tr>\n",
       "      <th>3</th>\n",
       "      <td>2532</td>\n",
       "      <td>Airport</td>\n",
       "      <td>1.0</td>\n",
       "      <td>Trip Completed</td>\n",
       "      <td>12/7/2016 21:08</td>\n",
       "      <td>12/7/2016 22:03</td>\n",
       "    </tr>\n",
       "    <tr>\n",
       "      <th>4</th>\n",
       "      <td>3112</td>\n",
       "      <td>City</td>\n",
       "      <td>1.0</td>\n",
       "      <td>Trip Completed</td>\n",
       "      <td>13-07-2016 08:33:16</td>\n",
       "      <td>13-07-2016 09:25:47</td>\n",
       "    </tr>\n",
       "    <tr>\n",
       "      <th>...</th>\n",
       "      <td>...</td>\n",
       "      <td>...</td>\n",
       "      <td>...</td>\n",
       "      <td>...</td>\n",
       "      <td>...</td>\n",
       "      <td>...</td>\n",
       "    </tr>\n",
       "    <tr>\n",
       "      <th>6740</th>\n",
       "      <td>6745</td>\n",
       "      <td>City</td>\n",
       "      <td>NaN</td>\n",
       "      <td>No Cars Available</td>\n",
       "      <td>15-07-2016 23:49:03</td>\n",
       "      <td>NaN</td>\n",
       "    </tr>\n",
       "    <tr>\n",
       "      <th>6741</th>\n",
       "      <td>6752</td>\n",
       "      <td>Airport</td>\n",
       "      <td>NaN</td>\n",
       "      <td>No Cars Available</td>\n",
       "      <td>15-07-2016 23:50:05</td>\n",
       "      <td>NaN</td>\n",
       "    </tr>\n",
       "    <tr>\n",
       "      <th>6742</th>\n",
       "      <td>6751</td>\n",
       "      <td>City</td>\n",
       "      <td>NaN</td>\n",
       "      <td>No Cars Available</td>\n",
       "      <td>15-07-2016 23:52:06</td>\n",
       "      <td>NaN</td>\n",
       "    </tr>\n",
       "    <tr>\n",
       "      <th>6743</th>\n",
       "      <td>6754</td>\n",
       "      <td>City</td>\n",
       "      <td>NaN</td>\n",
       "      <td>No Cars Available</td>\n",
       "      <td>15-07-2016 23:54:39</td>\n",
       "      <td>NaN</td>\n",
       "    </tr>\n",
       "    <tr>\n",
       "      <th>6744</th>\n",
       "      <td>6753</td>\n",
       "      <td>Airport</td>\n",
       "      <td>NaN</td>\n",
       "      <td>No Cars Available</td>\n",
       "      <td>15-07-2016 23:55:03</td>\n",
       "      <td>NaN</td>\n",
       "    </tr>\n",
       "  </tbody>\n",
       "</table>\n",
       "<p>6745 rows × 6 columns</p>\n",
       "</div>"
      ],
      "text/plain": [
       "      Request id Pickup point  Driver id             Status  \\\n",
       "0            619      Airport        1.0     Trip Completed   \n",
       "1            867      Airport        1.0     Trip Completed   \n",
       "2           1807         City        1.0     Trip Completed   \n",
       "3           2532      Airport        1.0     Trip Completed   \n",
       "4           3112         City        1.0     Trip Completed   \n",
       "...          ...          ...        ...                ...   \n",
       "6740        6745         City        NaN  No Cars Available   \n",
       "6741        6752      Airport        NaN  No Cars Available   \n",
       "6742        6751         City        NaN  No Cars Available   \n",
       "6743        6754         City        NaN  No Cars Available   \n",
       "6744        6753      Airport        NaN  No Cars Available   \n",
       "\n",
       "        Request timestamp       Drop timestamp  \n",
       "0         11/7/2016 11:51      11/7/2016 13:00  \n",
       "1         11/7/2016 17:57      11/7/2016 18:47  \n",
       "2          12/7/2016 9:17       12/7/2016 9:58  \n",
       "3         12/7/2016 21:08      12/7/2016 22:03  \n",
       "4     13-07-2016 08:33:16  13-07-2016 09:25:47  \n",
       "...                   ...                  ...  \n",
       "6740  15-07-2016 23:49:03                  NaN  \n",
       "6741  15-07-2016 23:50:05                  NaN  \n",
       "6742  15-07-2016 23:52:06                  NaN  \n",
       "6743  15-07-2016 23:54:39                  NaN  \n",
       "6744  15-07-2016 23:55:03                  NaN  \n",
       "\n",
       "[6745 rows x 6 columns]"
      ]
     },
     "execution_count": 4,
     "metadata": {},
     "output_type": "execute_result"
    }
   ],
   "source": [
    "# Observing actual data in dataframe\n",
    "\n",
    "uber_data"
   ]
  },
  {
   "cell_type": "markdown",
   "id": "addfd214",
   "metadata": {},
   "source": [
    "** Inference 1:** 'Driver id' fields have decimal values however, it should be integer values"
   ]
  },
  {
   "cell_type": "markdown",
   "id": "c328c468",
   "metadata": {},
   "source": [
    "** Inference 2:** 'Request timestamp' and 'Drop timestamp' fields have dates in different formats however, it should be in uniform format for analysis. Eg. '15-07-2016 10:00:43' vs. '11/7/2016 13:08'"
   ]
  },
  {
   "cell_type": "code",
   "execution_count": 5,
   "id": "30bc4ff5",
   "metadata": {},
   "outputs": [
    {
     "data": {
      "text/plain": [
       "(6745, 6)"
      ]
     },
     "execution_count": 5,
     "metadata": {},
     "output_type": "execute_result"
    }
   ],
   "source": [
    "# Check the number of rows and columns in the dataframe\n",
    "uber_data.shape"
   ]
  },
  {
   "cell_type": "code",
   "execution_count": 6,
   "id": "30faf5bc",
   "metadata": {},
   "outputs": [
    {
     "name": "stdout",
     "output_type": "stream",
     "text": [
      "<class 'pandas.core.frame.DataFrame'>\n",
      "RangeIndex: 6745 entries, 0 to 6744\n",
      "Data columns (total 6 columns):\n",
      " #   Column             Non-Null Count  Dtype  \n",
      "---  ------             --------------  -----  \n",
      " 0   Request id         6745 non-null   int64  \n",
      " 1   Pickup point       6745 non-null   object \n",
      " 2   Driver id          4095 non-null   float64\n",
      " 3   Status             6745 non-null   object \n",
      " 4   Request timestamp  6745 non-null   object \n",
      " 5   Drop timestamp     2831 non-null   object \n",
      "dtypes: float64(1), int64(1), object(4)\n",
      "memory usage: 316.3+ KB\n"
     ]
    }
   ],
   "source": [
    "# Check the column-wise info of the dataframe\n",
    "uber_data.info()"
   ]
  },
  {
   "cell_type": "markdown",
   "id": "e764714f",
   "metadata": {},
   "source": [
    "** Inference 3:** 'Driver id' fields and 'Drop timestamp' have many 'NaN' values"
   ]
  },
  {
   "cell_type": "markdown",
   "id": "d12e2752",
   "metadata": {},
   "source": [
    "### Summary of Inspecting the dataframe\n",
    "* 'Driver id' fields have decimal values however, it should be integer values\n",
    "* 'Request timestamp' and 'Drop timestamp' fields have dates in different formats however, it should be in uniform format for analysis. Eg. '15-07-2016 10:00:43' vs. '11/7/2016 13:08'\n",
    "* 'Driver id' fields and 'Drop timestamp' have many 'NaN' values"
   ]
  },
  {
   "cell_type": "markdown",
   "id": "adcb8cc3",
   "metadata": {},
   "source": [
    "## Data Cleaning"
   ]
  },
  {
   "cell_type": "markdown",
   "id": "4de94973",
   "metadata": {},
   "source": [
    "### Converting the data type of 'Driver id' column.\n",
    "#### In order to do this, we will replace the nan in 'driver id' column by zero as because we have no special need of this column.\n",
    "#### Now we will change the float type to integer type."
   ]
  },
  {
   "cell_type": "code",
   "execution_count": 7,
   "id": "e4d9a0d3",
   "metadata": {},
   "outputs": [
    {
     "data": {
      "text/plain": [
       "Request id             int64\n",
       "Pickup point          object\n",
       "Driver id            float64\n",
       "Status                object\n",
       "Request timestamp     object\n",
       "Drop timestamp        object\n",
       "dtype: object"
      ]
     },
     "metadata": {},
     "output_type": "display_data"
    }
   ],
   "source": [
    "display(uber_data.dtypes)"
   ]
  },
  {
   "cell_type": "code",
   "execution_count": 8,
   "id": "73d1451b",
   "metadata": {},
   "outputs": [],
   "source": [
    "uber_data['Driver id'] = uber_data['Driver id'].fillna(0)"
   ]
  },
  {
   "cell_type": "code",
   "execution_count": 9,
   "id": "d7ea593c",
   "metadata": {},
   "outputs": [],
   "source": [
    "uber_data['Driver id'] = uber_data['Driver id'].astype(int)"
   ]
  },
  {
   "cell_type": "code",
   "execution_count": 10,
   "id": "0a11fafd",
   "metadata": {},
   "outputs": [
    {
     "name": "stdout",
     "output_type": "stream",
     "text": [
      "<class 'pandas.core.frame.DataFrame'>\n",
      "RangeIndex: 6745 entries, 0 to 6744\n",
      "Data columns (total 6 columns):\n",
      " #   Column             Non-Null Count  Dtype \n",
      "---  ------             --------------  ----- \n",
      " 0   Request id         6745 non-null   int64 \n",
      " 1   Pickup point       6745 non-null   object\n",
      " 2   Driver id          6745 non-null   int32 \n",
      " 3   Status             6745 non-null   object\n",
      " 4   Request timestamp  6745 non-null   object\n",
      " 5   Drop timestamp     2831 non-null   object\n",
      "dtypes: int32(1), int64(1), object(4)\n",
      "memory usage: 289.9+ KB\n"
     ]
    }
   ],
   "source": [
    "uber_data.info()"
   ]
  },
  {
   "cell_type": "markdown",
   "id": "9a74bb66",
   "metadata": {},
   "source": [
    "### Removed the nan and converted the data type for 'Driver id' column"
   ]
  },
  {
   "cell_type": "markdown",
   "id": "21f326b2",
   "metadata": {},
   "source": [
    "### Converting 'Request timestamp' and 'Drop timestamp' fields to uniform format"
   ]
  },
  {
   "cell_type": "code",
   "execution_count": 11,
   "id": "11f34723",
   "metadata": {},
   "outputs": [
    {
     "data": {
      "text/html": [
       "<div>\n",
       "<style scoped>\n",
       "    .dataframe tbody tr th:only-of-type {\n",
       "        vertical-align: middle;\n",
       "    }\n",
       "\n",
       "    .dataframe tbody tr th {\n",
       "        vertical-align: top;\n",
       "    }\n",
       "\n",
       "    .dataframe thead th {\n",
       "        text-align: right;\n",
       "    }\n",
       "</style>\n",
       "<table border=\"1\" class=\"dataframe\">\n",
       "  <thead>\n",
       "    <tr style=\"text-align: right;\">\n",
       "      <th></th>\n",
       "      <th>Request id</th>\n",
       "      <th>Pickup point</th>\n",
       "      <th>Driver id</th>\n",
       "      <th>Status</th>\n",
       "      <th>Request timestamp</th>\n",
       "      <th>Drop timestamp</th>\n",
       "    </tr>\n",
       "  </thead>\n",
       "  <tbody>\n",
       "    <tr>\n",
       "      <th>0</th>\n",
       "      <td>619</td>\n",
       "      <td>Airport</td>\n",
       "      <td>1</td>\n",
       "      <td>Trip Completed</td>\n",
       "      <td>2016-07-11 11:51:00</td>\n",
       "      <td>2016-07-11 13:00:00</td>\n",
       "    </tr>\n",
       "    <tr>\n",
       "      <th>1</th>\n",
       "      <td>867</td>\n",
       "      <td>Airport</td>\n",
       "      <td>1</td>\n",
       "      <td>Trip Completed</td>\n",
       "      <td>2016-07-11 17:57:00</td>\n",
       "      <td>2016-07-11 18:47:00</td>\n",
       "    </tr>\n",
       "    <tr>\n",
       "      <th>2</th>\n",
       "      <td>1807</td>\n",
       "      <td>City</td>\n",
       "      <td>1</td>\n",
       "      <td>Trip Completed</td>\n",
       "      <td>2016-07-12 09:17:00</td>\n",
       "      <td>2016-07-12 09:58:00</td>\n",
       "    </tr>\n",
       "    <tr>\n",
       "      <th>3</th>\n",
       "      <td>2532</td>\n",
       "      <td>Airport</td>\n",
       "      <td>1</td>\n",
       "      <td>Trip Completed</td>\n",
       "      <td>2016-07-12 21:08:00</td>\n",
       "      <td>2016-07-12 22:03:00</td>\n",
       "    </tr>\n",
       "    <tr>\n",
       "      <th>4</th>\n",
       "      <td>3112</td>\n",
       "      <td>City</td>\n",
       "      <td>1</td>\n",
       "      <td>Trip Completed</td>\n",
       "      <td>2016-07-13 08:33:16</td>\n",
       "      <td>2016-07-13 09:25:47</td>\n",
       "    </tr>\n",
       "  </tbody>\n",
       "</table>\n",
       "</div>"
      ],
      "text/plain": [
       "   Request id Pickup point  Driver id          Status   Request timestamp  \\\n",
       "0         619      Airport          1  Trip Completed 2016-07-11 11:51:00   \n",
       "1         867      Airport          1  Trip Completed 2016-07-11 17:57:00   \n",
       "2        1807         City          1  Trip Completed 2016-07-12 09:17:00   \n",
       "3        2532      Airport          1  Trip Completed 2016-07-12 21:08:00   \n",
       "4        3112         City          1  Trip Completed 2016-07-13 08:33:16   \n",
       "\n",
       "       Drop timestamp  \n",
       "0 2016-07-11 13:00:00  \n",
       "1 2016-07-11 18:47:00  \n",
       "2 2016-07-12 09:58:00  \n",
       "3 2016-07-12 22:03:00  \n",
       "4 2016-07-13 09:25:47  "
      ]
     },
     "execution_count": 11,
     "metadata": {},
     "output_type": "execute_result"
    }
   ],
   "source": [
    "from datetime import datetime\n",
    "\n",
    "# Make the date-time columns, 'Request timestamp' and 'Drop timestamp' as uniform datetime format.\n",
    "def uniform_format(var):\n",
    "    try:\n",
    "        if var == ' ':\n",
    "            return var\n",
    "        elif '-' in var:\n",
    "            return datetime.strptime(var, '%d-%m-%Y %H:%M:%S')\n",
    "        elif '/' in var:\n",
    "            return datetime.strptime(var, '%d/%m/%Y %H:%M')\n",
    "    except Exception as e:\n",
    "        print(e, var)\n",
    "\n",
    "\n",
    "        \n",
    "# Replacing missing values in 'Drop timestamp' by 'Request timestamp', thus 'Ride Duration' becomes 0 minutes\n",
    "uber_data.loc[pd.isnull(uber_data['Drop timestamp']), ['Drop timestamp']] = uber_data['Request timestamp']\n",
    "\n",
    "\n",
    "\n",
    "# Applying uniform datetime format on 'Request timestamp' and 'Drop timestamp' columns.\n",
    "uber_data['Request timestamp'] = uber_data['Request timestamp'].apply(lambda x: uniform_format(x))\n",
    "uber_data['Drop timestamp'] = uber_data['Drop timestamp'].apply(lambda x: uniform_format(x))\n",
    "\n",
    "uber_data.head()"
   ]
  },
  {
   "cell_type": "markdown",
   "id": "26e7aa98",
   "metadata": {},
   "source": [
    "### Identifying additional data quality issues"
   ]
  },
  {
   "cell_type": "code",
   "execution_count": 12,
   "id": "348ad570",
   "metadata": {},
   "outputs": [
    {
     "data": {
      "text/plain": [
       "Request id           0\n",
       "Pickup point         0\n",
       "Driver id            0\n",
       "Status               0\n",
       "Request timestamp    0\n",
       "Drop timestamp       0\n",
       "dtype: int64"
      ]
     },
     "execution_count": 12,
     "metadata": {},
     "output_type": "execute_result"
    }
   ],
   "source": [
    "# Get the column-wise Null count using 'is.null()' alongwith the 'sum()' function\n",
    "uber_data.isnull().sum()"
   ]
  },
  {
   "cell_type": "markdown",
   "id": "63a28a78",
   "metadata": {},
   "source": [
    "### Everything looks good."
   ]
  },
  {
   "cell_type": "markdown",
   "id": "df9c9fe6",
   "metadata": {},
   "source": [
    "## Let's add some more useful features to the dataset."
   ]
  },
  {
   "cell_type": "markdown",
   "id": "df405028",
   "metadata": {},
   "source": [
    "### Making a derived column, 'Duration'"
   ]
  },
  {
   "cell_type": "markdown",
   "id": "8422ca6a",
   "metadata": {},
   "source": [
    "#### DURATION: Shows the duration(time taken) of the trip."
   ]
  },
  {
   "cell_type": "code",
   "execution_count": 13,
   "id": "4ffc61a3",
   "metadata": {},
   "outputs": [],
   "source": [
    "uber_data['Duration'] = uber_data['Drop timestamp']-uber_data['Request timestamp']\n",
    "\n",
    "uber_data['Duration'] = round(uber_data['Duration'].dt.total_seconds()/60,1)"
   ]
  },
  {
   "cell_type": "code",
   "execution_count": 14,
   "id": "40dd3889",
   "metadata": {},
   "outputs": [
    {
     "data": {
      "text/html": [
       "<div>\n",
       "<style scoped>\n",
       "    .dataframe tbody tr th:only-of-type {\n",
       "        vertical-align: middle;\n",
       "    }\n",
       "\n",
       "    .dataframe tbody tr th {\n",
       "        vertical-align: top;\n",
       "    }\n",
       "\n",
       "    .dataframe thead th {\n",
       "        text-align: right;\n",
       "    }\n",
       "</style>\n",
       "<table border=\"1\" class=\"dataframe\">\n",
       "  <thead>\n",
       "    <tr style=\"text-align: right;\">\n",
       "      <th></th>\n",
       "      <th>Request id</th>\n",
       "      <th>Pickup point</th>\n",
       "      <th>Driver id</th>\n",
       "      <th>Status</th>\n",
       "      <th>Request timestamp</th>\n",
       "      <th>Drop timestamp</th>\n",
       "      <th>Duration</th>\n",
       "    </tr>\n",
       "  </thead>\n",
       "  <tbody>\n",
       "    <tr>\n",
       "      <th>0</th>\n",
       "      <td>619</td>\n",
       "      <td>Airport</td>\n",
       "      <td>1</td>\n",
       "      <td>Trip Completed</td>\n",
       "      <td>2016-07-11 11:51:00</td>\n",
       "      <td>2016-07-11 13:00:00</td>\n",
       "      <td>69.0</td>\n",
       "    </tr>\n",
       "    <tr>\n",
       "      <th>1</th>\n",
       "      <td>867</td>\n",
       "      <td>Airport</td>\n",
       "      <td>1</td>\n",
       "      <td>Trip Completed</td>\n",
       "      <td>2016-07-11 17:57:00</td>\n",
       "      <td>2016-07-11 18:47:00</td>\n",
       "      <td>50.0</td>\n",
       "    </tr>\n",
       "    <tr>\n",
       "      <th>2</th>\n",
       "      <td>1807</td>\n",
       "      <td>City</td>\n",
       "      <td>1</td>\n",
       "      <td>Trip Completed</td>\n",
       "      <td>2016-07-12 09:17:00</td>\n",
       "      <td>2016-07-12 09:58:00</td>\n",
       "      <td>41.0</td>\n",
       "    </tr>\n",
       "    <tr>\n",
       "      <th>3</th>\n",
       "      <td>2532</td>\n",
       "      <td>Airport</td>\n",
       "      <td>1</td>\n",
       "      <td>Trip Completed</td>\n",
       "      <td>2016-07-12 21:08:00</td>\n",
       "      <td>2016-07-12 22:03:00</td>\n",
       "      <td>55.0</td>\n",
       "    </tr>\n",
       "    <tr>\n",
       "      <th>4</th>\n",
       "      <td>3112</td>\n",
       "      <td>City</td>\n",
       "      <td>1</td>\n",
       "      <td>Trip Completed</td>\n",
       "      <td>2016-07-13 08:33:16</td>\n",
       "      <td>2016-07-13 09:25:47</td>\n",
       "      <td>52.5</td>\n",
       "    </tr>\n",
       "  </tbody>\n",
       "</table>\n",
       "</div>"
      ],
      "text/plain": [
       "   Request id Pickup point  Driver id          Status   Request timestamp  \\\n",
       "0         619      Airport          1  Trip Completed 2016-07-11 11:51:00   \n",
       "1         867      Airport          1  Trip Completed 2016-07-11 17:57:00   \n",
       "2        1807         City          1  Trip Completed 2016-07-12 09:17:00   \n",
       "3        2532      Airport          1  Trip Completed 2016-07-12 21:08:00   \n",
       "4        3112         City          1  Trip Completed 2016-07-13 08:33:16   \n",
       "\n",
       "       Drop timestamp  Duration  \n",
       "0 2016-07-11 13:00:00      69.0  \n",
       "1 2016-07-11 18:47:00      50.0  \n",
       "2 2016-07-12 09:58:00      41.0  \n",
       "3 2016-07-12 22:03:00      55.0  \n",
       "4 2016-07-13 09:25:47      52.5  "
      ]
     },
     "execution_count": 14,
     "metadata": {},
     "output_type": "execute_result"
    }
   ],
   "source": [
    "uber_data.head()"
   ]
  },
  {
   "cell_type": "markdown",
   "id": "be4b1738",
   "metadata": {},
   "source": [
    "### Making a derived column, 'Slot'"
   ]
  },
  {
   "cell_type": "markdown",
   "id": "a5c61df9",
   "metadata": {},
   "source": [
    "### SLOT : Shows the time slot in which the trip happened."
   ]
  },
  {
   "cell_type": "code",
   "execution_count": 15,
   "id": "43165507",
   "metadata": {},
   "outputs": [],
   "source": [
    "# Creating a function to determine the ride slot on basis of 'Request timestamp'\n",
    "def get_slot(rt):\n",
    "    if rt in range(4,6):\n",
    "        return 'Early Morning'\n",
    "    if rt in range(6,12):\n",
    "        return 'Morning'\n",
    "    if rt in range(12,17):\n",
    "        return 'Afternoon'\n",
    "    if rt in range(17,20):\n",
    "        return 'Evening'\n",
    "    if rt in range(20,24):\n",
    "        return 'Night'\n",
    "    if rt in range(0,4):\n",
    "        return 'Late Night'\n",
    "\n",
    "uber_data['Slot'] = uber_data['Request timestamp'].dt.hour.apply(lambda x: get_slot(x))"
   ]
  },
  {
   "cell_type": "code",
   "execution_count": 16,
   "id": "8d561321",
   "metadata": {},
   "outputs": [
    {
     "data": {
      "text/plain": [
       "array(['Morning', 'Evening', 'Night', 'Early Morning', 'Afternoon',\n",
       "       'Late Night'], dtype=object)"
      ]
     },
     "execution_count": 16,
     "metadata": {},
     "output_type": "execute_result"
    }
   ],
   "source": [
    "# Checking if all rows have been assigned time slots i.e. we do not have null values\n",
    "uber_data['Slot'].unique()"
   ]
  },
  {
   "cell_type": "code",
   "execution_count": 17,
   "id": "d2f2dbde",
   "metadata": {},
   "outputs": [
    {
     "data": {
      "text/plain": [
       "Request id           0\n",
       "Pickup point         0\n",
       "Driver id            0\n",
       "Status               0\n",
       "Request timestamp    0\n",
       "Drop timestamp       0\n",
       "Duration             0\n",
       "Slot                 0\n",
       "dtype: int64"
      ]
     },
     "execution_count": 17,
     "metadata": {},
     "output_type": "execute_result"
    }
   ],
   "source": [
    "uber_data.isnull().sum()"
   ]
  },
  {
   "cell_type": "code",
   "execution_count": 18,
   "id": "ac94f29a",
   "metadata": {},
   "outputs": [
    {
     "data": {
      "text/html": [
       "<div>\n",
       "<style scoped>\n",
       "    .dataframe tbody tr th:only-of-type {\n",
       "        vertical-align: middle;\n",
       "    }\n",
       "\n",
       "    .dataframe tbody tr th {\n",
       "        vertical-align: top;\n",
       "    }\n",
       "\n",
       "    .dataframe thead th {\n",
       "        text-align: right;\n",
       "    }\n",
       "</style>\n",
       "<table border=\"1\" class=\"dataframe\">\n",
       "  <thead>\n",
       "    <tr style=\"text-align: right;\">\n",
       "      <th></th>\n",
       "      <th>Request id</th>\n",
       "      <th>Pickup point</th>\n",
       "      <th>Driver id</th>\n",
       "      <th>Status</th>\n",
       "      <th>Request timestamp</th>\n",
       "      <th>Drop timestamp</th>\n",
       "      <th>Duration</th>\n",
       "      <th>Slot</th>\n",
       "    </tr>\n",
       "  </thead>\n",
       "  <tbody>\n",
       "    <tr>\n",
       "      <th>0</th>\n",
       "      <td>619</td>\n",
       "      <td>Airport</td>\n",
       "      <td>1</td>\n",
       "      <td>Trip Completed</td>\n",
       "      <td>2016-07-11 11:51:00</td>\n",
       "      <td>2016-07-11 13:00:00</td>\n",
       "      <td>69.0</td>\n",
       "      <td>Morning</td>\n",
       "    </tr>\n",
       "    <tr>\n",
       "      <th>1</th>\n",
       "      <td>867</td>\n",
       "      <td>Airport</td>\n",
       "      <td>1</td>\n",
       "      <td>Trip Completed</td>\n",
       "      <td>2016-07-11 17:57:00</td>\n",
       "      <td>2016-07-11 18:47:00</td>\n",
       "      <td>50.0</td>\n",
       "      <td>Evening</td>\n",
       "    </tr>\n",
       "    <tr>\n",
       "      <th>2</th>\n",
       "      <td>1807</td>\n",
       "      <td>City</td>\n",
       "      <td>1</td>\n",
       "      <td>Trip Completed</td>\n",
       "      <td>2016-07-12 09:17:00</td>\n",
       "      <td>2016-07-12 09:58:00</td>\n",
       "      <td>41.0</td>\n",
       "      <td>Morning</td>\n",
       "    </tr>\n",
       "    <tr>\n",
       "      <th>3</th>\n",
       "      <td>2532</td>\n",
       "      <td>Airport</td>\n",
       "      <td>1</td>\n",
       "      <td>Trip Completed</td>\n",
       "      <td>2016-07-12 21:08:00</td>\n",
       "      <td>2016-07-12 22:03:00</td>\n",
       "      <td>55.0</td>\n",
       "      <td>Night</td>\n",
       "    </tr>\n",
       "    <tr>\n",
       "      <th>4</th>\n",
       "      <td>3112</td>\n",
       "      <td>City</td>\n",
       "      <td>1</td>\n",
       "      <td>Trip Completed</td>\n",
       "      <td>2016-07-13 08:33:16</td>\n",
       "      <td>2016-07-13 09:25:47</td>\n",
       "      <td>52.5</td>\n",
       "      <td>Morning</td>\n",
       "    </tr>\n",
       "  </tbody>\n",
       "</table>\n",
       "</div>"
      ],
      "text/plain": [
       "   Request id Pickup point  Driver id          Status   Request timestamp  \\\n",
       "0         619      Airport          1  Trip Completed 2016-07-11 11:51:00   \n",
       "1         867      Airport          1  Trip Completed 2016-07-11 17:57:00   \n",
       "2        1807         City          1  Trip Completed 2016-07-12 09:17:00   \n",
       "3        2532      Airport          1  Trip Completed 2016-07-12 21:08:00   \n",
       "4        3112         City          1  Trip Completed 2016-07-13 08:33:16   \n",
       "\n",
       "       Drop timestamp  Duration     Slot  \n",
       "0 2016-07-11 13:00:00      69.0  Morning  \n",
       "1 2016-07-11 18:47:00      50.0  Evening  \n",
       "2 2016-07-12 09:58:00      41.0  Morning  \n",
       "3 2016-07-12 22:03:00      55.0    Night  \n",
       "4 2016-07-13 09:25:47      52.5  Morning  "
      ]
     },
     "execution_count": 18,
     "metadata": {},
     "output_type": "execute_result"
    }
   ],
   "source": [
    "uber_data.head()"
   ]
  },
  {
   "cell_type": "markdown",
   "id": "6d366c8d",
   "metadata": {},
   "source": [
    "### Making a derived column, 'Hour', representing hour of day"
   ]
  },
  {
   "cell_type": "markdown",
   "id": "0a86c274",
   "metadata": {},
   "source": [
    "### HOUR : Shows the hour in the which the request for the trip made."
   ]
  },
  {
   "cell_type": "code",
   "execution_count": 19,
   "id": "74e22e9c",
   "metadata": {},
   "outputs": [],
   "source": [
    "uber_data['Hour'] = uber_data['Request timestamp'].dt.hour"
   ]
  },
  {
   "cell_type": "code",
   "execution_count": 20,
   "id": "ec37688d",
   "metadata": {},
   "outputs": [
    {
     "name": "stdout",
     "output_type": "stream",
     "text": [
      "[0, 1, 2, 3, 4, 5, 6, 7, 8, 9, 10, 11, 12, 13, 14, 15, 16, 17, 18, 19, 20, 21, 22, 23]\n"
     ]
    }
   ],
   "source": [
    "# Checking if all rows have been assigned days i.e. we do not have null values\n",
    "print(sorted(uber_data['Hour'].unique()))"
   ]
  },
  {
   "cell_type": "code",
   "execution_count": 21,
   "id": "d3ec6085",
   "metadata": {},
   "outputs": [
    {
     "data": {
      "text/plain": [
       "Request id           0\n",
       "Pickup point         0\n",
       "Driver id            0\n",
       "Status               0\n",
       "Request timestamp    0\n",
       "Drop timestamp       0\n",
       "Duration             0\n",
       "Slot                 0\n",
       "Hour                 0\n",
       "dtype: int64"
      ]
     },
     "execution_count": 21,
     "metadata": {},
     "output_type": "execute_result"
    }
   ],
   "source": [
    "uber_data.isnull().sum()"
   ]
  },
  {
   "cell_type": "code",
   "execution_count": 22,
   "id": "425854a3",
   "metadata": {},
   "outputs": [
    {
     "data": {
      "text/html": [
       "<div>\n",
       "<style scoped>\n",
       "    .dataframe tbody tr th:only-of-type {\n",
       "        vertical-align: middle;\n",
       "    }\n",
       "\n",
       "    .dataframe tbody tr th {\n",
       "        vertical-align: top;\n",
       "    }\n",
       "\n",
       "    .dataframe thead th {\n",
       "        text-align: right;\n",
       "    }\n",
       "</style>\n",
       "<table border=\"1\" class=\"dataframe\">\n",
       "  <thead>\n",
       "    <tr style=\"text-align: right;\">\n",
       "      <th></th>\n",
       "      <th>Request id</th>\n",
       "      <th>Pickup point</th>\n",
       "      <th>Driver id</th>\n",
       "      <th>Status</th>\n",
       "      <th>Request timestamp</th>\n",
       "      <th>Drop timestamp</th>\n",
       "      <th>Duration</th>\n",
       "      <th>Slot</th>\n",
       "      <th>Hour</th>\n",
       "    </tr>\n",
       "  </thead>\n",
       "  <tbody>\n",
       "    <tr>\n",
       "      <th>0</th>\n",
       "      <td>619</td>\n",
       "      <td>Airport</td>\n",
       "      <td>1</td>\n",
       "      <td>Trip Completed</td>\n",
       "      <td>2016-07-11 11:51:00</td>\n",
       "      <td>2016-07-11 13:00:00</td>\n",
       "      <td>69.0</td>\n",
       "      <td>Morning</td>\n",
       "      <td>11</td>\n",
       "    </tr>\n",
       "    <tr>\n",
       "      <th>1</th>\n",
       "      <td>867</td>\n",
       "      <td>Airport</td>\n",
       "      <td>1</td>\n",
       "      <td>Trip Completed</td>\n",
       "      <td>2016-07-11 17:57:00</td>\n",
       "      <td>2016-07-11 18:47:00</td>\n",
       "      <td>50.0</td>\n",
       "      <td>Evening</td>\n",
       "      <td>17</td>\n",
       "    </tr>\n",
       "    <tr>\n",
       "      <th>2</th>\n",
       "      <td>1807</td>\n",
       "      <td>City</td>\n",
       "      <td>1</td>\n",
       "      <td>Trip Completed</td>\n",
       "      <td>2016-07-12 09:17:00</td>\n",
       "      <td>2016-07-12 09:58:00</td>\n",
       "      <td>41.0</td>\n",
       "      <td>Morning</td>\n",
       "      <td>9</td>\n",
       "    </tr>\n",
       "    <tr>\n",
       "      <th>3</th>\n",
       "      <td>2532</td>\n",
       "      <td>Airport</td>\n",
       "      <td>1</td>\n",
       "      <td>Trip Completed</td>\n",
       "      <td>2016-07-12 21:08:00</td>\n",
       "      <td>2016-07-12 22:03:00</td>\n",
       "      <td>55.0</td>\n",
       "      <td>Night</td>\n",
       "      <td>21</td>\n",
       "    </tr>\n",
       "    <tr>\n",
       "      <th>4</th>\n",
       "      <td>3112</td>\n",
       "      <td>City</td>\n",
       "      <td>1</td>\n",
       "      <td>Trip Completed</td>\n",
       "      <td>2016-07-13 08:33:16</td>\n",
       "      <td>2016-07-13 09:25:47</td>\n",
       "      <td>52.5</td>\n",
       "      <td>Morning</td>\n",
       "      <td>8</td>\n",
       "    </tr>\n",
       "  </tbody>\n",
       "</table>\n",
       "</div>"
      ],
      "text/plain": [
       "   Request id Pickup point  Driver id          Status   Request timestamp  \\\n",
       "0         619      Airport          1  Trip Completed 2016-07-11 11:51:00   \n",
       "1         867      Airport          1  Trip Completed 2016-07-11 17:57:00   \n",
       "2        1807         City          1  Trip Completed 2016-07-12 09:17:00   \n",
       "3        2532      Airport          1  Trip Completed 2016-07-12 21:08:00   \n",
       "4        3112         City          1  Trip Completed 2016-07-13 08:33:16   \n",
       "\n",
       "       Drop timestamp  Duration     Slot  Hour  \n",
       "0 2016-07-11 13:00:00      69.0  Morning    11  \n",
       "1 2016-07-11 18:47:00      50.0  Evening    17  \n",
       "2 2016-07-12 09:58:00      41.0  Morning     9  \n",
       "3 2016-07-12 22:03:00      55.0    Night    21  \n",
       "4 2016-07-13 09:25:47      52.5  Morning     8  "
      ]
     },
     "execution_count": 22,
     "metadata": {},
     "output_type": "execute_result"
    }
   ],
   "source": [
    "uber_data.head()"
   ]
  },
  {
   "cell_type": "markdown",
   "id": "2ca58a9e",
   "metadata": {},
   "source": [
    "### Making a derived column, 'Day', representing day of week"
   ]
  },
  {
   "cell_type": "markdown",
   "id": "89ae2dc4",
   "metadata": {},
   "source": [
    "### DAY : Shows the day of the trip."
   ]
  },
  {
   "cell_type": "code",
   "execution_count": 23,
   "id": "2b7be16f",
   "metadata": {},
   "outputs": [],
   "source": [
    "# Creating a function to determine the day of week on basis of 'Request timestamp'\n",
    "def get_day(rt):\n",
    "    d = {0:\"Monday\",1:\"Tuesday\",2:\"Wednesday\",3:\"Thursday\",4:\"Friday\",5:\"Saturday\",6:\"Sunday\"}\n",
    "    return d[rt.weekday()]\n",
    "\n",
    "uber_data['Day'] = uber_data['Request timestamp'].apply(lambda x: get_day(x))"
   ]
  },
  {
   "cell_type": "code",
   "execution_count": 24,
   "id": "26e19581",
   "metadata": {},
   "outputs": [
    {
     "name": "stdout",
     "output_type": "stream",
     "text": [
      "['Monday' 'Tuesday' 'Wednesday' 'Thursday' 'Friday']\n"
     ]
    }
   ],
   "source": [
    "# Checking if all rows have been assigned days i.e. we do not have null values\n",
    "print(uber_data['Day'].unique())"
   ]
  },
  {
   "cell_type": "code",
   "execution_count": 25,
   "id": "6876e00a",
   "metadata": {},
   "outputs": [
    {
     "data": {
      "text/plain": [
       "Request id           0\n",
       "Pickup point         0\n",
       "Driver id            0\n",
       "Status               0\n",
       "Request timestamp    0\n",
       "Drop timestamp       0\n",
       "Duration             0\n",
       "Slot                 0\n",
       "Hour                 0\n",
       "Day                  0\n",
       "dtype: int64"
      ]
     },
     "execution_count": 25,
     "metadata": {},
     "output_type": "execute_result"
    }
   ],
   "source": [
    "uber_data.isnull().sum()"
   ]
  },
  {
   "cell_type": "code",
   "execution_count": 26,
   "id": "dbc9b643",
   "metadata": {},
   "outputs": [
    {
     "data": {
      "text/html": [
       "<div>\n",
       "<style scoped>\n",
       "    .dataframe tbody tr th:only-of-type {\n",
       "        vertical-align: middle;\n",
       "    }\n",
       "\n",
       "    .dataframe tbody tr th {\n",
       "        vertical-align: top;\n",
       "    }\n",
       "\n",
       "    .dataframe thead th {\n",
       "        text-align: right;\n",
       "    }\n",
       "</style>\n",
       "<table border=\"1\" class=\"dataframe\">\n",
       "  <thead>\n",
       "    <tr style=\"text-align: right;\">\n",
       "      <th></th>\n",
       "      <th>Request id</th>\n",
       "      <th>Pickup point</th>\n",
       "      <th>Driver id</th>\n",
       "      <th>Status</th>\n",
       "      <th>Request timestamp</th>\n",
       "      <th>Drop timestamp</th>\n",
       "      <th>Duration</th>\n",
       "      <th>Slot</th>\n",
       "      <th>Hour</th>\n",
       "      <th>Day</th>\n",
       "    </tr>\n",
       "  </thead>\n",
       "  <tbody>\n",
       "    <tr>\n",
       "      <th>0</th>\n",
       "      <td>619</td>\n",
       "      <td>Airport</td>\n",
       "      <td>1</td>\n",
       "      <td>Trip Completed</td>\n",
       "      <td>2016-07-11 11:51:00</td>\n",
       "      <td>2016-07-11 13:00:00</td>\n",
       "      <td>69.0</td>\n",
       "      <td>Morning</td>\n",
       "      <td>11</td>\n",
       "      <td>Monday</td>\n",
       "    </tr>\n",
       "    <tr>\n",
       "      <th>1</th>\n",
       "      <td>867</td>\n",
       "      <td>Airport</td>\n",
       "      <td>1</td>\n",
       "      <td>Trip Completed</td>\n",
       "      <td>2016-07-11 17:57:00</td>\n",
       "      <td>2016-07-11 18:47:00</td>\n",
       "      <td>50.0</td>\n",
       "      <td>Evening</td>\n",
       "      <td>17</td>\n",
       "      <td>Monday</td>\n",
       "    </tr>\n",
       "    <tr>\n",
       "      <th>2</th>\n",
       "      <td>1807</td>\n",
       "      <td>City</td>\n",
       "      <td>1</td>\n",
       "      <td>Trip Completed</td>\n",
       "      <td>2016-07-12 09:17:00</td>\n",
       "      <td>2016-07-12 09:58:00</td>\n",
       "      <td>41.0</td>\n",
       "      <td>Morning</td>\n",
       "      <td>9</td>\n",
       "      <td>Tuesday</td>\n",
       "    </tr>\n",
       "    <tr>\n",
       "      <th>3</th>\n",
       "      <td>2532</td>\n",
       "      <td>Airport</td>\n",
       "      <td>1</td>\n",
       "      <td>Trip Completed</td>\n",
       "      <td>2016-07-12 21:08:00</td>\n",
       "      <td>2016-07-12 22:03:00</td>\n",
       "      <td>55.0</td>\n",
       "      <td>Night</td>\n",
       "      <td>21</td>\n",
       "      <td>Tuesday</td>\n",
       "    </tr>\n",
       "    <tr>\n",
       "      <th>4</th>\n",
       "      <td>3112</td>\n",
       "      <td>City</td>\n",
       "      <td>1</td>\n",
       "      <td>Trip Completed</td>\n",
       "      <td>2016-07-13 08:33:16</td>\n",
       "      <td>2016-07-13 09:25:47</td>\n",
       "      <td>52.5</td>\n",
       "      <td>Morning</td>\n",
       "      <td>8</td>\n",
       "      <td>Wednesday</td>\n",
       "    </tr>\n",
       "  </tbody>\n",
       "</table>\n",
       "</div>"
      ],
      "text/plain": [
       "   Request id Pickup point  Driver id          Status   Request timestamp  \\\n",
       "0         619      Airport          1  Trip Completed 2016-07-11 11:51:00   \n",
       "1         867      Airport          1  Trip Completed 2016-07-11 17:57:00   \n",
       "2        1807         City          1  Trip Completed 2016-07-12 09:17:00   \n",
       "3        2532      Airport          1  Trip Completed 2016-07-12 21:08:00   \n",
       "4        3112         City          1  Trip Completed 2016-07-13 08:33:16   \n",
       "\n",
       "       Drop timestamp  Duration     Slot  Hour        Day  \n",
       "0 2016-07-11 13:00:00      69.0  Morning    11     Monday  \n",
       "1 2016-07-11 18:47:00      50.0  Evening    17     Monday  \n",
       "2 2016-07-12 09:58:00      41.0  Morning     9    Tuesday  \n",
       "3 2016-07-12 22:03:00      55.0    Night    21    Tuesday  \n",
       "4 2016-07-13 09:25:47      52.5  Morning     8  Wednesday  "
      ]
     },
     "execution_count": 26,
     "metadata": {},
     "output_type": "execute_result"
    }
   ],
   "source": [
    "uber_data.head()"
   ]
  },
  {
   "cell_type": "code",
   "execution_count": null,
   "id": "85856d5e",
   "metadata": {},
   "outputs": [],
   "source": []
  }
 ],
 "metadata": {
  "kernelspec": {
   "display_name": "Python 3 (ipykernel)",
   "language": "python",
   "name": "python3"
  },
  "language_info": {
   "codemirror_mode": {
    "name": "ipython",
    "version": 3
   },
   "file_extension": ".py",
   "mimetype": "text/x-python",
   "name": "python",
   "nbconvert_exporter": "python",
   "pygments_lexer": "ipython3",
   "version": "3.9.7"
  }
 },
 "nbformat": 4,
 "nbformat_minor": 5
}
